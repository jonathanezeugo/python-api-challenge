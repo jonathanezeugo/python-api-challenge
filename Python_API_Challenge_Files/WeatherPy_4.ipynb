{
 "cells": [
  {
   "cell_type": "markdown",
   "metadata": {},
   "source": [
    "# WeatherPy\n",
    "----\n",
    "\n",
    "#### Note\n",
    "* Instructions have been included for each segment. You do not have to follow them exactly, but they are included to help you think through the steps.\n",
    "\n",
    "# Observable Trends from this analysis:\n",
    "1.\tTemperature ranges are higher around the tropics or equator since there is more sunshine year-round. Temperatures drop with movement towards the poles of both Northern and Southern hemispheres. \n",
    "2.\tIt is colder in the Northern hemisphere compared to the tropics and Southern hemisphere. May be due to longer distance from the sun with the earth’s tilt. \n",
    "3.\tLatitude has no significant relationship with cloudiness and wind speed in both hemispheres.  There is a stronger relationship between latitude and humidity in the Northern hemisphere which could issue from low temperatures and higher condensation. \n",
    "4.\tA higher proportion of the cities generated from the data are in the Northern hemisphere which may relate to that domain being preferred for human habitation, especially since it appears to have more landmass."
   ]
  },
  {
   "cell_type": "code",
   "execution_count": 1,
   "metadata": {
    "scrolled": true
   },
   "outputs": [],
   "source": [
    "# Dependencies and Setup\n",
    "import matplotlib.pyplot as plt\n",
    "import pandas as pd\n",
    "import numpy as np\n",
    "import requests\n",
    "import time\n",
    "import json\n",
    "import pyowm \n",
    "import scipy.stats as st\n",
    "from scipy.stats import linregress\n",
    "\n",
    "# Import API key\n",
    "from api_keys import weather_api_key\n",
    "\n",
    "# Incorporated citipy to determine city based on latitude and longitude\n",
    "from citipy import citipy\n",
    "\n",
    "# Output File (CSV)\n",
    "output_data_file = \"output_data/cities.csv\"\n",
    "\n",
    "# Range of latitudes and longitudes\n",
    "lat_range = (-90, 90)\n",
    "lng_range = (-180, 180)"
   ]
  },
  {
   "cell_type": "markdown",
   "metadata": {},
   "source": [
    "## Generate Cities List"
   ]
  },
  {
   "cell_type": "code",
   "execution_count": 2,
   "metadata": {},
   "outputs": [
    {
     "name": "stdout",
     "output_type": "stream",
     "text": [
      "There are 600 cities!\n"
     ]
    }
   ],
   "source": [
    "# List for holding lat_lngs and cities\n",
    "lat_lngs = []\n",
    "cities = []\n",
    "\n",
    "# Create a set of random lat and lng combinations\n",
    "lats = np.random.uniform(lat_range[0], lat_range[1], size=1500)\n",
    "lngs = np.random.uniform(lng_range[0], lng_range[1], size=1500)\n",
    "lat_lngs = zip(lats, lngs)\n",
    "\n",
    "# Identify nearest city for each lat, lng combination\n",
    "for lat_lng in lat_lngs:\n",
    "    city = citipy.nearest_city(lat_lng[0], lat_lng[1]).city_name\n",
    "    \n",
    "    # If the city is unique, then add it to a our cities list\n",
    "    if city not in cities:\n",
    "        cities.append(city)\n",
    "        \n",
    "# Print the city count to confirm sufficient count\n",
    "print(f\"There are {len(cities)} cities!\")"
   ]
  },
  {
   "cell_type": "markdown",
   "metadata": {},
   "source": [
    "### Perform API Calls\n",
    "* Perform a weather check on each city using a series of successive API calls.\n",
    "* Include a print log of each city as it'sbeing processed (with the city number and city name).\n"
   ]
  },
  {
   "cell_type": "code",
   "execution_count": 3,
   "metadata": {},
   "outputs": [
    {
     "name": "stdout",
     "output_type": "stream",
     "text": [
      "\n",
      "Beginning Data Retrieval\n",
      "------------------------------\n",
      "Processing Record 0 of Set 1 | kapaa\n",
      "Processing Record 0 of Set 1 | temaraia\n",
      "City not found. Skipping...\n",
      "Processing Record 1 of Set 1 | kaitangata\n",
      "Processing Record 1 of Set 1 | rikitea\n",
      "Processing Record 1 of Set 1 | fortuna\n",
      "Processing Record 1 of Set 1 | punta arenas\n",
      "Processing Record 1 of Set 1 | avarua\n",
      "Processing Record 1 of Set 1 | busselton\n",
      "Processing Record 1 of Set 1 | andenes\n",
      "Processing Record 1 of Set 1 | bredasdorp\n",
      "Processing Record 1 of Set 1 | port alfred\n",
      "Processing Record 1 of Set 1 | atuona\n",
      "Processing Record 1 of Set 1 | saint anthony\n",
      "Processing Record 1 of Set 1 | ushuaia\n",
      "Processing Record 1 of Set 1 | portland\n",
      "Processing Record 1 of Set 1 | albany\n",
      "Processing Record 1 of Set 1 | dikson\n",
      "Processing Record 1 of Set 1 | longyearbyen\n",
      "Processing Record 1 of Set 1 | bengkulu\n",
      "Processing Record 1 of Set 1 | lavrentiya\n",
      "Processing Record 1 of Set 1 | talcahuano\n",
      "Processing Record 1 of Set 1 | grindavik\n",
      "Processing Record 1 of Set 1 | zhangjiakou\n",
      "Processing Record 1 of Set 1 | broome\n",
      "Processing Record 1 of Set 1 | taolanaro\n",
      "City not found. Skipping...\n",
      "Processing Record 2 of Set 1 | westport\n",
      "Processing Record 2 of Set 1 | constitucion\n",
      "Processing Record 2 of Set 1 | saint-denis\n",
      "Processing Record 2 of Set 1 | hermanus\n",
      "Processing Record 2 of Set 1 | mehamn\n",
      "Processing Record 2 of Set 1 | sakakah\n",
      "Processing Record 2 of Set 1 | upernavik\n",
      "Processing Record 2 of Set 1 | kropotkin\n",
      "Processing Record 2 of Set 1 | hilo\n",
      "Processing Record 2 of Set 1 | svetlogorsk\n",
      "Processing Record 2 of Set 1 | fairbanks\n",
      "Processing Record 2 of Set 1 | arraial do cabo\n",
      "Processing Record 2 of Set 1 | gagarin\n",
      "Processing Record 2 of Set 1 | tsihombe\n",
      "City not found. Skipping...\n",
      "Processing Record 3 of Set 1 | bubaque\n",
      "Processing Record 3 of Set 1 | abapo\n",
      "Processing Record 3 of Set 1 | vaini\n",
      "Processing Record 3 of Set 1 | hihifo\n",
      "City not found. Skipping...\n",
      "Processing Record 4 of Set 1 | nizwa\n",
      "Processing Record 4 of Set 1 | victoria\n",
      "Processing Record 4 of Set 1 | amderma\n",
      "City not found. Skipping...\n",
      "Processing Record 5 of Set 1 | torbay\n",
      "Processing Record 5 of Set 1 | manitouwadge\n",
      "Processing Record 5 of Set 1 | andros town\n",
      "Processing Record 5 of Set 1 | cherskiy\n",
      "Processing Record 5 of Set 1 | castro\n",
      "Processing Record 5 of Set 1 | arlit\n",
      "Processing Record 5 of Set 1 | narsaq\n",
      "Processing Record 5 of Set 1 | saint peter\n",
      "Processing Record 5 of Set 1 | mataura\n",
      "Processing Record 5 of Set 1 | saskylakh\n",
      "Processing Record 5 of Set 1 | kuybyshevo\n",
      "Processing Record 5 of Set 1 | oswego\n",
      "Processing Record 5 of Set 1 | saint george\n",
      "Processing Record 5 of Set 1 | airai\n",
      "Processing Record 5 of Set 1 | poum\n",
      "Processing Record 5 of Set 1 | belushya guba\n",
      "City not found. Skipping...\n",
      "Processing Record 6 of Set 1 | sueyoshi\n",
      "Processing Record 6 of Set 1 | liverpool\n",
      "Processing Record 6 of Set 1 | badarganj\n",
      "Processing Record 6 of Set 1 | juegang\n",
      "Processing Record 6 of Set 1 | east london\n",
      "Processing Record 6 of Set 1 | whyalla\n",
      "Processing Record 6 of Set 1 | komsomolskiy\n",
      "Processing Record 6 of Set 1 | takab\n",
      "Processing Record 6 of Set 1 | puerto ayora\n",
      "Processing Record 6 of Set 1 | illoqqortoormiut\n",
      "City not found. Skipping...\n",
      "Processing Record 7 of Set 1 | georgetown\n",
      "Processing Record 7 of Set 1 | corrientes\n",
      "Processing Record 7 of Set 1 | barentsburg\n",
      "City not found. Skipping...\n",
      "Processing Record 8 of Set 1 | saint-philippe\n",
      "Processing Record 8 of Set 1 | jalu\n",
      "Processing Record 8 of Set 1 | margate\n",
      "Processing Record 8 of Set 1 | santana do livramento\n",
      "Processing Record 8 of Set 1 | new norfolk\n",
      "Processing Record 8 of Set 1 | druzhba\n",
      "Processing Record 8 of Set 1 | jamestown\n",
      "Processing Record 8 of Set 1 | povenets\n",
      "Processing Record 8 of Set 1 | slave lake\n",
      "Processing Record 8 of Set 1 | port elizabeth\n",
      "Processing Record 8 of Set 1 | butaritari\n",
      "Processing Record 8 of Set 1 | porto santo\n",
      "Processing Record 8 of Set 1 | yumen\n",
      "Processing Record 8 of Set 1 | geraldton\n",
      "Processing Record 8 of Set 1 | porbandar\n",
      "Processing Record 8 of Set 1 | adamas\n",
      "Processing Record 8 of Set 1 | norman wells\n",
      "Processing Record 8 of Set 1 | san quintin\n",
      "Processing Record 8 of Set 1 | nishihara\n",
      "Processing Record 8 of Set 1 | cape town\n",
      "Processing Record 8 of Set 1 | ningan\n",
      "City not found. Skipping...\n",
      "Processing Record 9 of Set 1 | surt\n",
      "Processing Record 9 of Set 1 | bluff\n",
      "Processing Record 9 of Set 1 | saanen\n",
      "Processing Record 9 of Set 1 | camacha\n",
      "Processing Record 9 of Set 1 | tuktoyaktuk\n",
      "Processing Record 9 of Set 1 | vanavara\n",
      "Processing Record 9 of Set 1 | gualeguay\n",
      "Processing Record 9 of Set 1 | mys shmidta\n",
      "City not found. Skipping...\n",
      "Processing Record 10 of Set 1 | hobart\n",
      "Processing Record 10 of Set 1 | kodiak\n",
      "Processing Record 10 of Set 1 | putai\n",
      "Processing Record 10 of Set 1 | maldonado\n",
      "Processing Record 10 of Set 1 | tasiilaq\n",
      "Processing Record 10 of Set 1 | bhadasar\n",
      "Processing Record 10 of Set 1 | san vicente\n",
      "Processing Record 10 of Set 1 | souillac\n",
      "Processing Record 10 of Set 1 | shimoda\n",
      "Processing Record 10 of Set 1 | vaitupu\n",
      "City not found. Skipping...\n",
      "Processing Record 11 of Set 1 | abha\n",
      "Processing Record 11 of Set 1 | george\n",
      "Processing Record 11 of Set 1 | lebu\n",
      "Processing Record 11 of Set 1 | binzhou\n",
      "Processing Record 11 of Set 1 | dunedin\n",
      "Processing Record 11 of Set 1 | liuzhou\n",
      "Processing Record 11 of Set 1 | nome\n",
      "Processing Record 11 of Set 1 | saldanha\n",
      "Processing Record 11 of Set 1 | pandan\n",
      "Processing Record 11 of Set 1 | vanimo\n",
      "Processing Record 11 of Set 1 | marawi\n",
      "Processing Record 11 of Set 1 | singaparna\n",
      "Processing Record 11 of Set 1 | ishigaki\n",
      "Processing Record 11 of Set 1 | moose factory\n",
      "Processing Record 11 of Set 1 | martapura\n",
      "Processing Record 11 of Set 1 | kruisfontein\n",
      "Processing Record 11 of Set 1 | qaanaaq\n",
      "Processing Record 11 of Set 1 | doha\n",
      "Processing Record 11 of Set 1 | conceicao do araguaia\n",
      "Processing Record 11 of Set 1 | port-gentil\n",
      "Processing Record 11 of Set 1 | khatanga\n",
      "Processing Record 11 of Set 1 | atlantic beach\n",
      "Processing Record 11 of Set 1 | mullaitivu\n",
      "City not found. Skipping...\n",
      "Processing Record 12 of Set 1 | taltal\n",
      "Processing Record 12 of Set 1 | mahon\n",
      "Processing Record 12 of Set 1 | changji\n",
      "Processing Record 12 of Set 1 | de-kastri\n",
      "Processing Record 12 of Set 1 | cape canaveral\n",
      "Processing Record 12 of Set 1 | srandakan\n",
      "Processing Record 12 of Set 1 | bentiu\n",
      "Processing Record 12 of Set 1 | thohoyandou\n",
      "Processing Record 12 of Set 1 | murray bridge\n",
      "Processing Record 12 of Set 1 | baykit\n",
      "Processing Record 12 of Set 1 | attawapiskat\n",
      "City not found. Skipping...\n",
      "Processing Record 13 of Set 1 | lethem\n",
      "Processing Record 13 of Set 1 | lumeje\n",
      "Processing Record 13 of Set 1 | kristiinankaupunki\n",
      "Processing Record 13 of Set 1 | wenling\n",
      "Processing Record 13 of Set 1 | abonnema\n",
      "Processing Record 13 of Set 1 | halalo\n",
      "City not found. Skipping...\n",
      "Processing Record 14 of Set 1 | salinas\n",
      "Processing Record 14 of Set 1 | mergui\n",
      "City not found. Skipping...\n",
      "Processing Record 15 of Set 1 | cidreira\n",
      "Processing Record 15 of Set 1 | ilulissat\n",
      "Processing Record 15 of Set 1 | edea\n",
      "Processing Record 15 of Set 1 | vila franca do campo\n",
      "Processing Record 15 of Set 1 | kota belud\n",
      "Processing Record 15 of Set 1 | puerto narino\n",
      "Processing Record 15 of Set 1 | puteyets\n",
      "Processing Record 15 of Set 1 | vardo\n",
      "Processing Record 15 of Set 1 | gorno-chuyskiy\n",
      "City not found. Skipping...\n",
      "Processing Record 16 of Set 1 | esperance\n",
      "Processing Record 16 of Set 1 | swan hill\n",
      "Processing Record 16 of Set 1 | kirakira\n",
      "Processing Record 16 of Set 1 | darnah\n",
      "Processing Record 16 of Set 1 | sibolga\n",
      "Processing Record 16 of Set 1 | sayyan\n",
      "Processing Record 16 of Set 1 | nantucket\n",
      "Processing Record 16 of Set 1 | isangel\n",
      "Processing Record 16 of Set 1 | lompoc\n",
      "Processing Record 16 of Set 1 | volovo\n",
      "Processing Record 16 of Set 1 | saleaula\n",
      "City not found. Skipping...\n",
      "Processing Record 17 of Set 1 | akureyri\n",
      "Processing Record 17 of Set 1 | maykain\n",
      "City not found. Skipping...\n",
      "Processing Record 18 of Set 1 | zhigansk\n",
      "Processing Record 18 of Set 1 | chicama\n",
      "Processing Record 18 of Set 1 | mumford\n",
      "Processing Record 18 of Set 1 | atar\n",
      "Processing Record 18 of Set 1 | nioro\n",
      "Processing Record 18 of Set 1 | ahipara\n",
      "Processing Record 18 of Set 1 | asau\n",
      "Processing Record 18 of Set 1 | marzuq\n",
      "Processing Record 18 of Set 1 | sao filipe\n"
     ]
    },
    {
     "name": "stdout",
     "output_type": "stream",
     "text": [
      "Processing Record 18 of Set 1 | kavieng\n",
      "Processing Record 18 of Set 1 | chuy\n",
      "Processing Record 18 of Set 1 | ptolemais\n",
      "Processing Record 18 of Set 1 | malakal\n",
      "Processing Record 18 of Set 1 | alofi\n",
      "Processing Record 18 of Set 1 | havre-saint-pierre\n",
      "Processing Record 18 of Set 1 | nouakchott\n",
      "Processing Record 18 of Set 1 | hithadhoo\n",
      "Processing Record 18 of Set 1 | ambon\n",
      "Processing Record 18 of Set 1 | turukhansk\n",
      "Processing Record 18 of Set 1 | sitka\n",
      "Processing Record 18 of Set 1 | bethel\n",
      "Processing Record 18 of Set 1 | lipari\n",
      "Processing Record 18 of Set 1 | jinchengjiang\n",
      "City not found. Skipping...\n",
      "Processing Record 19 of Set 1 | muisne\n",
      "Processing Record 19 of Set 1 | wellington\n",
      "Processing Record 19 of Set 1 | anaconda\n",
      "Processing Record 19 of Set 1 | te anau\n",
      "Processing Record 19 of Set 1 | muroto\n",
      "Processing Record 19 of Set 1 | sangar\n",
      "Processing Record 19 of Set 1 | bombay\n",
      "Processing Record 19 of Set 1 | port hedland\n",
      "Processing Record 19 of Set 1 | beisfjord\n",
      "Processing Record 19 of Set 1 | ati\n",
      "Processing Record 19 of Set 1 | weiser\n",
      "Processing Record 19 of Set 1 | nikolskoye\n",
      "Processing Record 19 of Set 1 | karamea\n",
      "City not found. Skipping...\n",
      "Processing Record 20 of Set 1 | cap malheureux\n",
      "Processing Record 20 of Set 1 | lamar\n",
      "Processing Record 20 of Set 1 | urumqi\n",
      "Processing Record 20 of Set 1 | bay roberts\n",
      "Processing Record 20 of Set 1 | aflu\n",
      "City not found. Skipping...\n",
      "Processing Record 21 of Set 1 | tabuk\n",
      "Processing Record 21 of Set 1 | tiruvottiyur\n",
      "City not found. Skipping...\n",
      "Processing Record 22 of Set 1 | manoel urbano\n",
      "Processing Record 22 of Set 1 | clyde river\n",
      "Processing Record 22 of Set 1 | homer\n",
      "Processing Record 22 of Set 1 | novyy urengoy\n",
      "Processing Record 22 of Set 1 | tiksi\n",
      "Processing Record 22 of Set 1 | nanguneri\n",
      "Processing Record 22 of Set 1 | agadez\n",
      "Processing Record 22 of Set 1 | tasbuget\n",
      "City not found. Skipping...\n",
      "Processing Record 23 of Set 1 | nouadhibou\n",
      "Processing Record 23 of Set 1 | salima\n",
      "Processing Record 23 of Set 1 | carnarvon\n",
      "Processing Record 23 of Set 1 | ponta do sol\n",
      "Processing Record 23 of Set 1 | novopavlovka\n",
      "Processing Record 23 of Set 1 | ballina\n",
      "Processing Record 23 of Set 1 | olafsvik\n",
      "Processing Record 23 of Set 1 | tivoli\n",
      "Processing Record 23 of Set 1 | emerald\n",
      "Processing Record 23 of Set 1 | mar del plata\n",
      "Processing Record 23 of Set 1 | rungata\n",
      "City not found. Skipping...\n",
      "Processing Record 24 of Set 1 | mayumba\n",
      "Processing Record 24 of Set 1 | batemans bay\n",
      "Processing Record 24 of Set 1 | luderitz\n",
      "Processing Record 24 of Set 1 | valdivia\n",
      "Processing Record 24 of Set 1 | axim\n",
      "Processing Record 24 of Set 1 | haldibari\n",
      "Processing Record 24 of Set 1 | vila velha\n",
      "Processing Record 24 of Set 1 | codrington\n",
      "Processing Record 24 of Set 1 | faya\n",
      "Processing Record 24 of Set 1 | dunmore town\n",
      "Processing Record 24 of Set 1 | yuli\n",
      "Processing Record 24 of Set 1 | makushino\n",
      "Processing Record 24 of Set 1 | bambous virieux\n",
      "Processing Record 24 of Set 1 | yellowknife\n",
      "Processing Record 24 of Set 1 | tuatapere\n",
      "Processing Record 24 of Set 1 | dillon\n",
      "Processing Record 24 of Set 1 | mount gambier\n",
      "Processing Record 24 of Set 1 | cabo san lucas\n",
      "Processing Record 24 of Set 1 | santa maria del oro\n",
      "Processing Record 24 of Set 1 | cayenne\n",
      "Processing Record 24 of Set 1 | san cristobal\n",
      "Processing Record 24 of Set 1 | flinders\n",
      "Processing Record 24 of Set 1 | polson\n",
      "Processing Record 24 of Set 1 | ulaangom\n",
      "Processing Record 24 of Set 1 | taoudenni\n",
      "Processing Record 24 of Set 1 | bethanien\n",
      "Processing Record 24 of Set 1 | hobyo\n",
      "Processing Record 24 of Set 1 | itarema\n",
      "Processing Record 24 of Set 1 | golkoy\n",
      "Processing Record 24 of Set 1 | usinsk\n",
      "Processing Record 24 of Set 1 | bathsheba\n",
      "Processing Record 24 of Set 1 | thompson\n",
      "Processing Record 24 of Set 1 | loandjili\n",
      "Processing Record 24 of Set 1 | pevek\n",
      "Processing Record 24 of Set 1 | chokurdakh\n",
      "Processing Record 24 of Set 1 | indianola\n",
      "Processing Record 24 of Set 1 | beringovskiy\n",
      "Processing Record 24 of Set 1 | kuche\n",
      "City not found. Skipping...\n",
      "Processing Record 25 of Set 1 | ancud\n",
      "Processing Record 25 of Set 1 | maceio\n",
      "Processing Record 25 of Set 1 | sur\n",
      "Processing Record 25 of Set 1 | belle fourche\n",
      "Processing Record 25 of Set 1 | varhaug\n",
      "Processing Record 25 of Set 1 | bushehr\n",
      "Processing Record 25 of Set 1 | viligili\n",
      "City not found. Skipping...\n",
      "Processing Record 26 of Set 1 | mount isa\n",
      "Processing Record 26 of Set 1 | dongsheng\n",
      "Processing Record 26 of Set 1 | barrow\n",
      "Processing Record 26 of Set 1 | morris\n",
      "Processing Record 26 of Set 1 | sinor\n",
      "Processing Record 26 of Set 1 | provideniya\n",
      "Processing Record 26 of Set 1 | umzimvubu\n",
      "City not found. Skipping...\n",
      "Processing Record 27 of Set 1 | tura\n",
      "Processing Record 27 of Set 1 | broken hill\n",
      "Processing Record 27 of Set 1 | jagannathpur\n",
      "Processing Record 27 of Set 1 | katsuura\n",
      "Processing Record 27 of Set 1 | kahului\n",
      "Processing Record 27 of Set 1 | ngunguru\n",
      "Processing Record 27 of Set 1 | ronne\n",
      "Processing Record 27 of Set 1 | marsh harbour\n",
      "Processing Record 27 of Set 1 | santa isabel do rio negro\n",
      "Processing Record 27 of Set 1 | sembakung\n",
      "Processing Record 27 of Set 1 | altagracia de orituco\n",
      "Processing Record 27 of Set 1 | tezu\n",
      "Processing Record 27 of Set 1 | pinar del rio\n",
      "Processing Record 27 of Set 1 | srednekolymsk\n",
      "Processing Record 27 of Set 1 | tanda\n",
      "Processing Record 27 of Set 1 | acari\n",
      "Processing Record 27 of Set 1 | ulladulla\n",
      "Processing Record 27 of Set 1 | qianan\n",
      "Processing Record 27 of Set 1 | tungkang\n",
      "City not found. Skipping...\n",
      "Processing Record 28 of Set 1 | luanda\n",
      "Processing Record 28 of Set 1 | rio gallegos\n",
      "Processing Record 28 of Set 1 | borba\n",
      "Processing Record 28 of Set 1 | cockburn town\n",
      "Processing Record 28 of Set 1 | athens\n",
      "Processing Record 28 of Set 1 | winnemucca\n",
      "Processing Record 28 of Set 1 | fukuma\n",
      "Processing Record 28 of Set 1 | camargo\n",
      "Processing Record 28 of Set 1 | phuntsholing\n",
      "Processing Record 28 of Set 1 | sainte-marie\n",
      "Processing Record 28 of Set 1 | milkovo\n",
      "Processing Record 28 of Set 1 | singaraja\n",
      "Processing Record 28 of Set 1 | toora-khem\n",
      "Processing Record 28 of Set 1 | ribeira grande\n",
      "Processing Record 28 of Set 1 | kudahuvadhoo\n",
      "Processing Record 28 of Set 1 | naze\n",
      "Processing Record 28 of Set 1 | zlatoustovsk\n",
      "City not found. Skipping...\n",
      "Processing Record 29 of Set 1 | san jeronimo\n",
      "Processing Record 29 of Set 1 | kihei\n",
      "Processing Record 29 of Set 1 | raga\n",
      "Processing Record 29 of Set 1 | karratha\n",
      "Processing Record 29 of Set 1 | puchezh\n",
      "Processing Record 29 of Set 1 | babanusah\n",
      "City not found. Skipping...\n",
      "Processing Record 30 of Set 1 | aklavik\n",
      "Processing Record 30 of Set 1 | moerai\n",
      "Processing Record 30 of Set 1 | khalkhal\n",
      "Processing Record 30 of Set 1 | kitui\n",
      "Processing Record 30 of Set 1 | san ramon\n",
      "Processing Record 30 of Set 1 | guilin\n",
      "Processing Record 30 of Set 1 | pahrump\n",
      "Processing Record 30 of Set 1 | roebourne\n",
      "Processing Record 30 of Set 1 | palmer\n",
      "Processing Record 30 of Set 1 | bandarbeyla\n",
      "Processing Record 30 of Set 1 | negara\n",
      "Processing Record 30 of Set 1 | pinheiro machado\n",
      "Processing Record 30 of Set 1 | novooleksiyivka\n",
      "Processing Record 30 of Set 1 | yulara\n",
      "Processing Record 30 of Set 1 | quepos\n",
      "Processing Record 30 of Set 1 | kandrian\n",
      "Processing Record 30 of Set 1 | winslow\n",
      "Processing Record 30 of Set 1 | chapais\n",
      "Processing Record 30 of Set 1 | torit\n",
      "Processing Record 30 of Set 1 | korla\n",
      "Processing Record 30 of Set 1 | mahajanga\n",
      "Processing Record 30 of Set 1 | makinsk\n",
      "Processing Record 30 of Set 1 | husavik\n",
      "Processing Record 30 of Set 1 | meulaboh\n",
      "Processing Record 30 of Set 1 | arica\n",
      "Processing Record 30 of Set 1 | sentyabrskiy\n",
      "City not found. Skipping...\n",
      "Processing Record 31 of Set 1 | tual\n",
      "Processing Record 31 of Set 1 | ambilobe\n",
      "Processing Record 31 of Set 1 | faanui\n",
      "Processing Record 31 of Set 1 | semporna\n",
      "Processing Record 31 of Set 1 | praia da vitoria\n",
      "Processing Record 31 of Set 1 | casino\n",
      "Processing Record 31 of Set 1 | gurskoye\n",
      "City not found. Skipping...\n",
      "Processing Record 32 of Set 1 | gweru\n",
      "Processing Record 32 of Set 1 | feijo\n",
      "Processing Record 32 of Set 1 | sao felix do xingu\n",
      "Processing Record 32 of Set 1 | rudnogorsk\n",
      "Processing Record 32 of Set 1 | gravdal\n",
      "Processing Record 32 of Set 1 | isla mujeres\n",
      "Processing Record 32 of Set 1 | ostrovnoy\n",
      "Processing Record 32 of Set 1 | ukiah\n",
      "Processing Record 32 of Set 1 | leningradskiy\n"
     ]
    },
    {
     "name": "stdout",
     "output_type": "stream",
     "text": [
      "Processing Record 32 of Set 1 | san policarpo\n",
      "Processing Record 32 of Set 1 | haines junction\n",
      "Processing Record 32 of Set 1 | conde\n",
      "Processing Record 32 of Set 1 | tonantins\n",
      "Processing Record 32 of Set 1 | vestmannaeyjar\n",
      "Processing Record 32 of Set 1 | kibala\n",
      "Processing Record 32 of Set 1 | forestville\n",
      "Processing Record 32 of Set 1 | mahebourg\n",
      "Processing Record 32 of Set 1 | kahama\n",
      "Processing Record 32 of Set 1 | doka\n",
      "Processing Record 32 of Set 1 | waingapu\n",
      "Processing Record 32 of Set 1 | abu dhabi\n",
      "Processing Record 32 of Set 1 | araceli\n",
      "Processing Record 32 of Set 1 | honningsvag\n",
      "Processing Record 32 of Set 1 | tortoli\n",
      "Processing Record 32 of Set 1 | daru\n",
      "Processing Record 32 of Set 1 | huarmey\n",
      "Processing Record 32 of Set 1 | purranque\n",
      "Processing Record 32 of Set 1 | nemuro\n",
      "Processing Record 32 of Set 1 | dafeng\n",
      "Processing Record 32 of Set 1 | acajutla\n",
      "Processing Record 32 of Set 1 | bukama\n",
      "Processing Record 32 of Set 1 | porto nacional\n",
      "Processing Record 32 of Set 1 | iqaluit\n",
      "Processing Record 32 of Set 1 | hasaki\n",
      "Processing Record 32 of Set 1 | hattiesburg\n",
      "Processing Record 32 of Set 1 | ewa beach\n",
      "Processing Record 32 of Set 1 | minas de barroteran\n",
      "Processing Record 32 of Set 1 | killam\n",
      "Processing Record 32 of Set 1 | elizabeth city\n",
      "Processing Record 32 of Set 1 | fredericton\n",
      "Processing Record 32 of Set 1 | leh\n",
      "Processing Record 32 of Set 1 | shingu\n",
      "Processing Record 32 of Set 1 | samusu\n",
      "City not found. Skipping...\n",
      "Processing Record 33 of Set 1 | cagliari\n",
      "Processing Record 33 of Set 1 | dajal\n",
      "Processing Record 33 of Set 1 | saint-joseph\n",
      "Processing Record 33 of Set 1 | placido de castro\n",
      "Processing Record 33 of Set 1 | mackay\n",
      "Processing Record 33 of Set 1 | krasnyy chikoy\n",
      "Processing Record 33 of Set 1 | wattegama\n",
      "Processing Record 33 of Set 1 | noyabrsk\n",
      "Processing Record 33 of Set 1 | misratah\n",
      "Processing Record 33 of Set 1 | manokwari\n",
      "Processing Record 33 of Set 1 | mogadishu\n",
      "Processing Record 33 of Set 1 | ust-kamchatsk\n",
      "City not found. Skipping...\n",
      "Processing Record 34 of Set 1 | kaeo\n",
      "Processing Record 34 of Set 1 | aqtobe\n",
      "Processing Record 34 of Set 1 | fort nelson\n",
      "Processing Record 34 of Set 1 | coahuayana\n",
      "Processing Record 34 of Set 1 | port hawkesbury\n",
      "Processing Record 34 of Set 1 | lagoa\n",
      "Processing Record 34 of Set 1 | kloulklubed\n",
      "Processing Record 34 of Set 1 | el faiyum\n",
      "City not found. Skipping...\n",
      "Processing Record 35 of Set 1 | shambu\n",
      "Processing Record 35 of Set 1 | san patricio\n",
      "Processing Record 35 of Set 1 | trairi\n",
      "Processing Record 35 of Set 1 | innisfail\n",
      "Processing Record 35 of Set 1 | sandakan\n",
      "Processing Record 35 of Set 1 | windhoek\n",
      "Processing Record 35 of Set 1 | carthage\n",
      "Processing Record 35 of Set 1 | partsa\n",
      "Processing Record 35 of Set 1 | pilar\n",
      "Processing Record 35 of Set 1 | carauari\n",
      "Processing Record 35 of Set 1 | adrar\n",
      "Processing Record 35 of Set 1 | batagay\n",
      "Processing Record 35 of Set 1 | grand river south east\n",
      "City not found. Skipping...\n",
      "Processing Record 36 of Set 1 | vao\n",
      "Processing Record 36 of Set 1 | touros\n",
      "Processing Record 36 of Set 1 | clarence town\n",
      "Processing Record 36 of Set 1 | dergachi\n",
      "Processing Record 36 of Set 1 | aswan\n",
      "Processing Record 36 of Set 1 | nizhneyansk\n",
      "City not found. Skipping...\n",
      "Processing Record 37 of Set 1 | iquitos\n",
      "Processing Record 37 of Set 1 | chute-aux-outardes\n",
      "Processing Record 37 of Set 1 | paracuru\n",
      "Processing Record 37 of Set 1 | kuusamo\n",
      "Processing Record 37 of Set 1 | gornopravdinsk\n",
      "Processing Record 37 of Set 1 | nanortalik\n",
      "Processing Record 37 of Set 1 | jomalig\n",
      "City not found. Skipping...\n",
      "Processing Record 38 of Set 1 | kamenskoye\n",
      "City not found. Skipping...\n",
      "Processing Record 39 of Set 1 | lokachi\n",
      "Processing Record 39 of Set 1 | coihaique\n",
      "Processing Record 39 of Set 1 | hvide sande\n",
      "Processing Record 39 of Set 1 | hailar\n",
      "Processing Record 39 of Set 1 | sainte-thecle\n",
      "Processing Record 39 of Set 1 | ndele\n",
      "Processing Record 39 of Set 1 | kiunga\n",
      "Processing Record 39 of Set 1 | kuragino\n",
      "Processing Record 39 of Set 1 | cervo\n",
      "Processing Record 39 of Set 1 | pisco\n",
      "Processing Record 39 of Set 1 | mareeba\n",
      "Processing Record 39 of Set 1 | laguna\n",
      "Processing Record 39 of Set 1 | avera\n",
      "Processing Record 39 of Set 1 | borovskoy\n",
      "Processing Record 39 of Set 1 | jaque\n",
      "Processing Record 39 of Set 1 | half moon bay\n",
      "Processing Record 39 of Set 1 | lexington\n",
      "Processing Record 39 of Set 1 | chernyshevskiy\n",
      "Processing Record 39 of Set 1 | larap\n",
      "Processing Record 39 of Set 1 | mega\n",
      "Processing Record 39 of Set 1 | hofn\n",
      "Processing Record 39 of Set 1 | benjamin hill\n",
      "Processing Record 39 of Set 1 | samarai\n",
      "Processing Record 39 of Set 1 | inta\n",
      "Processing Record 39 of Set 1 | tapes\n",
      "Processing Record 39 of Set 1 | alexandria\n",
      "Processing Record 39 of Set 1 | ibadan\n",
      "Processing Record 39 of Set 1 | pangnirtung\n",
      "Processing Record 39 of Set 1 | talnakh\n",
      "Processing Record 39 of Set 1 | kununurra\n",
      "Processing Record 39 of Set 1 | price\n",
      "Processing Record 39 of Set 1 | udachnyy\n",
      "Processing Record 39 of Set 1 | hami\n",
      "Processing Record 39 of Set 1 | saint-augustin\n",
      "Processing Record 39 of Set 1 | horodnya\n",
      "Processing Record 39 of Set 1 | craig\n",
      "Processing Record 39 of Set 1 | vilhena\n",
      "Processing Record 39 of Set 1 | pinega\n",
      "Processing Record 39 of Set 1 | chama\n",
      "Processing Record 39 of Set 1 | bundaberg\n",
      "Processing Record 39 of Set 1 | alihe\n",
      "Processing Record 39 of Set 1 | blythe\n",
      "Processing Record 39 of Set 1 | zheleznodorozhnyy\n",
      "Processing Record 39 of Set 1 | morganton\n",
      "Processing Record 39 of Set 1 | boa vista\n",
      "Processing Record 39 of Set 1 | krasnyy yar\n",
      "Processing Record 39 of Set 1 | talara\n",
      "Processing Record 39 of Set 1 | wanxian\n",
      "Processing Record 39 of Set 1 | svay rieng\n",
      "Processing Record 39 of Set 1 | bilibino\n",
      "Processing Record 39 of Set 1 | agadir\n",
      "Processing Record 39 of Set 1 | lorengau\n",
      "Processing Record 39 of Set 1 | severobaykalsk\n",
      "Processing Record 39 of Set 1 | pontian kecil\n",
      "Processing Record 39 of Set 1 | ayr\n",
      "Processing Record 39 of Set 1 | bolungarvik\n",
      "City not found. Skipping...\n",
      "Processing Record 40 of Set 1 | one hundred mile house\n",
      "City not found. Skipping...\n",
      "Processing Record 41 of Set 1 | le vauclin\n",
      "Processing Record 41 of Set 1 | vostok\n",
      "Processing Record 41 of Set 1 | atyrau\n",
      "Processing Record 41 of Set 1 | flin flon\n",
      "Processing Record 41 of Set 1 | narrabri\n",
      "Processing Record 41 of Set 1 | mino\n",
      "Processing Record 41 of Set 1 | shakawe\n",
      "Processing Record 41 of Set 1 | stoyba\n",
      "City not found. Skipping...\n",
      "Processing Record 42 of Set 1 | ambulu\n",
      "Processing Record 42 of Set 1 | guerrero negro\n",
      "Processing Record 42 of Set 1 | berezovyy\n",
      "Processing Record 42 of Set 1 | grand gaube\n",
      "Processing Record 42 of Set 1 | barra do garcas\n",
      "Processing Record 42 of Set 1 | burnie\n",
      "Processing Record 42 of Set 1 | rincon\n",
      "Processing Record 42 of Set 1 | ostashkov\n",
      "Processing Record 42 of Set 1 | caravelas\n",
      "Processing Record 42 of Set 1 | roald\n",
      "Processing Record 42 of Set 1 | hay river\n",
      "Processing Record 42 of Set 1 | guiratinga\n",
      "Processing Record 42 of Set 1 | achisay\n",
      "City not found. Skipping...\n",
      "Processing Record 43 of Set 1 | umm lajj\n",
      "Processing Record 43 of Set 1 | kavaratti\n",
      "Processing Record 43 of Set 1 | praia\n",
      "Processing Record 43 of Set 1 | juli\n",
      "Processing Record 43 of Set 1 | tekeli\n",
      "Processing Record 43 of Set 1 | swan river\n",
      "Processing Record 43 of Set 1 | harlingen\n",
      "Processing Record 43 of Set 1 | bairnsdale\n",
      "Processing Record 43 of Set 1 | kiknur\n",
      "Processing Record 43 of Set 1 | launceston\n",
      "Processing Record 43 of Set 1 | kud\n",
      "Processing Record 43 of Set 1 | simpang\n",
      "Processing Record 43 of Set 1 | sumoto\n",
      "Processing Record 43 of Set 1 | phuket\n",
      "Processing Record 43 of Set 1 | labutta\n",
      "City not found. Skipping...\n",
      "Processing Record 44 of Set 1 | chiredzi\n",
      "Processing Record 44 of Set 1 | acapulco\n",
      "Processing Record 44 of Set 1 | takoradi\n",
      "Processing Record 44 of Set 1 | nambucca heads\n",
      "Processing Record 44 of Set 1 | viransehir\n",
      "Processing Record 44 of Set 1 | contamana\n",
      "Processing Record 44 of Set 1 | voh\n",
      "Processing Record 44 of Set 1 | prudentopolis\n",
      "Processing Record 44 of Set 1 | beloha\n",
      "Processing Record 44 of Set 1 | shaoyang\n",
      "Processing Record 44 of Set 1 | zhanaozen\n",
      "Processing Record 44 of Set 1 | lieksa\n",
      "Processing Record 44 of Set 1 | waipawa\n",
      "Processing Record 44 of Set 1 | olinda\n",
      "Processing Record 44 of Set 1 | hobbs\n",
      "Processing Record 44 of Set 1 | pullman\n"
     ]
    },
    {
     "name": "stdout",
     "output_type": "stream",
     "text": [
      "Processing Record 44 of Set 1 | sisimiut\n",
      "Processing Record 44 of Set 1 | sola\n",
      "Processing Record 44 of Set 1 | balimo\n",
      "City not found. Skipping...\n",
      "Processing Record 45 of Set 1 | ixtapa\n",
      "Processing Record 45 of Set 1 | namikupa\n",
      "Processing Record 45 of Set 1 | senanga\n",
      "Processing Record 45 of Set 1 | farafangana\n",
      "Processing Record 45 of Set 1 | visby\n",
      "Processing Record 45 of Set 1 | warqla\n",
      "City not found. Skipping...\n",
      "Processing Record 46 of Set 1 | wonthaggi\n",
      "Processing Record 46 of Set 1 | bida\n",
      "Processing Record 46 of Set 1 | nuuk\n",
      "Processing Record 46 of Set 1 | iwanai\n",
      "Processing Record 46 of Set 1 | tukan\n",
      "Processing Record 46 of Set 1 | yunjinghong\n",
      "City not found. Skipping...\n",
      "Processing Record 47 of Set 1 | celldomolk\n",
      "Processing Record 47 of Set 1 | berlevag\n",
      "Processing Record 47 of Set 1 | pacific grove\n",
      "Processing Record 47 of Set 1 | necochea\n",
      "Processing Record 47 of Set 1 | do gonbadan\n",
      "Processing Record 47 of Set 1 | lar\n",
      "Processing Record 47 of Set 1 | la ronge\n",
      "Processing Record 47 of Set 1 | sunbury\n",
      "Processing Record 47 of Set 1 | hamilton\n",
      "Processing Record 47 of Set 1 | ankara\n",
      "Processing Record 47 of Set 1 | nijar\n",
      "Processing Record 47 of Set 1 | araouane\n",
      "Processing Record 47 of Set 1 | erzin\n",
      "Processing Record 47 of Set 1 | baillif\n",
      "Processing Record 47 of Set 1 | kez\n",
      "Processing Record 47 of Set 1 | bitung\n",
      "Processing Record 47 of Set 1 | san andres\n",
      "Processing Record 47 of Set 1 | aykhal\n",
      "Processing Record 47 of Set 1 | makakilo city\n"
     ]
    }
   ],
   "source": [
    "# Setting up query url and units to perform API calls\n",
    "url = \"https://api.openweathermap.org/data/2.5/weather?\"\n",
    "units = 'imperial'\n",
    "\n",
    "# Setting up API call parameters\n",
    "c = 0 \n",
    "Set = 1\n",
    "weather_json_list = []\n",
    "\n",
    "print(f\"\\nBeginning Data Retrieval\\n{'-'*30}\")\n",
    "\n",
    "# Creating a FOR loop to obtain cities information\n",
    "for single in cities:\n",
    "    query_url = f\"{url}appid={weather_api_key}&units={units}&q=\" + single        \n",
    "    #if c < 2: \n",
    "    print(f\"Processing Record {c} of Set {Set} | {single}\")\n",
    "    weather_response = requests.get(query_url)\n",
    "    if weather_response.status_code == 200:\n",
    "        weather_json = weather_response.json()\n",
    "        weather_json_list.append(weather_json)\n",
    "            #print(weather_response.status_code)\n",
    "    else:\n",
    "        print('City not found. Skipping...')\n",
    "\n",
    "        c += 1\n",
    "    if c == 50:\n",
    "        c = 0\n",
    "        Set += 1\n"
   ]
  },
  {
   "cell_type": "code",
   "execution_count": 4,
   "metadata": {},
   "outputs": [
    {
     "data": {
      "text/plain": [
       "553"
      ]
     },
     "execution_count": 4,
     "metadata": {},
     "output_type": "execute_result"
    }
   ],
   "source": [
    "len(weather_json_list)"
   ]
  },
  {
   "cell_type": "code",
   "execution_count": 5,
   "metadata": {},
   "outputs": [
    {
     "data": {
      "text/plain": [
       "{'coord': {'lon': -159.32, 'lat': 22.08},\n",
       " 'weather': [{'id': 800,\n",
       "   'main': 'Clear',\n",
       "   'description': 'clear sky',\n",
       "   'icon': '01n'}],\n",
       " 'base': 'stations',\n",
       " 'main': {'temp': 68,\n",
       "  'feels_like': 62.8,\n",
       "  'temp_min': 68,\n",
       "  'temp_max': 68,\n",
       "  'pressure': 1015,\n",
       "  'humidity': 59},\n",
       " 'visibility': 10000,\n",
       " 'wind': {'speed': 10.96, 'deg': 43},\n",
       " 'clouds': {'all': 4},\n",
       " 'dt': 1608217454,\n",
       " 'sys': {'type': 3,\n",
       "  'id': 2001562,\n",
       "  'country': 'US',\n",
       "  'sunrise': 1608225016,\n",
       "  'sunset': 1608263841},\n",
       " 'timezone': -36000,\n",
       " 'id': 5848280,\n",
       " 'name': 'Kapaa',\n",
       " 'cod': 200}"
      ]
     },
     "execution_count": 5,
     "metadata": {},
     "output_type": "execute_result"
    }
   ],
   "source": [
    "weather_json_list[0]"
   ]
  },
  {
   "cell_type": "code",
   "execution_count": 6,
   "metadata": {},
   "outputs": [
    {
     "data": {
      "text/plain": [
       "'https://api.openweathermap.org/data/2.5/weather?appid=98efd05784ec09eac725db00376fcdd4&units=imperial&q=makakilo city'"
      ]
     },
     "execution_count": 6,
     "metadata": {},
     "output_type": "execute_result"
    }
   ],
   "source": [
    "# Doublechecking query url for alignment\n",
    "query_url "
   ]
  },
  {
   "cell_type": "code",
   "execution_count": 7,
   "metadata": {},
   "outputs": [
    {
     "data": {
      "text/plain": [
       "dict_keys(['coord', 'weather', 'base', 'main', 'visibility', 'wind', 'clouds', 'dt', 'sys', 'timezone', 'id', 'name', 'cod'])"
      ]
     },
     "execution_count": 7,
     "metadata": {},
     "output_type": "execute_result"
    }
   ],
   "source": [
    "# Identifying output json file response keys \n",
    "weather_json_list[0].keys()"
   ]
  },
  {
   "cell_type": "code",
   "execution_count": 8,
   "metadata": {},
   "outputs": [
    {
     "data": {
      "text/html": [
       "<div>\n",
       "<style scoped>\n",
       "    .dataframe tbody tr th:only-of-type {\n",
       "        vertical-align: middle;\n",
       "    }\n",
       "\n",
       "    .dataframe tbody tr th {\n",
       "        vertical-align: top;\n",
       "    }\n",
       "\n",
       "    .dataframe thead th {\n",
       "        text-align: right;\n",
       "    }\n",
       "</style>\n",
       "<table border=\"1\" class=\"dataframe\">\n",
       "  <thead>\n",
       "    <tr style=\"text-align: right;\">\n",
       "      <th></th>\n",
       "      <th>City</th>\n",
       "      <th>Lat</th>\n",
       "      <th>Lng</th>\n",
       "      <th>Max Temp</th>\n",
       "      <th>Humidity</th>\n",
       "      <th>Cloudiness</th>\n",
       "      <th>Wind Speed</th>\n",
       "      <th>Country</th>\n",
       "      <th>Date</th>\n",
       "    </tr>\n",
       "  </thead>\n",
       "  <tbody>\n",
       "    <tr>\n",
       "      <th>0</th>\n",
       "      <td>Kapaa</td>\n",
       "      <td>22.08</td>\n",
       "      <td>-159.32</td>\n",
       "      <td>68</td>\n",
       "      <td>59</td>\n",
       "      <td>4</td>\n",
       "      <td>10.96</td>\n",
       "      <td>US</td>\n",
       "      <td>1608217454</td>\n",
       "    </tr>\n",
       "    <tr>\n",
       "      <th>1</th>\n",
       "      <td>Kaitangata</td>\n",
       "      <td>-46.28</td>\n",
       "      <td>169.85</td>\n",
       "      <td>54</td>\n",
       "      <td>79</td>\n",
       "      <td>100</td>\n",
       "      <td>3.00</td>\n",
       "      <td>NZ</td>\n",
       "      <td>1608217471</td>\n",
       "    </tr>\n",
       "    <tr>\n",
       "      <th>2</th>\n",
       "      <td>Rikitea</td>\n",
       "      <td>-23.12</td>\n",
       "      <td>-134.97</td>\n",
       "      <td>76.17</td>\n",
       "      <td>76</td>\n",
       "      <td>35</td>\n",
       "      <td>13.69</td>\n",
       "      <td>PF</td>\n",
       "      <td>1608217461</td>\n",
       "    </tr>\n",
       "    <tr>\n",
       "      <th>3</th>\n",
       "      <td>Fortuna</td>\n",
       "      <td>40.60</td>\n",
       "      <td>-124.16</td>\n",
       "      <td>48</td>\n",
       "      <td>100</td>\n",
       "      <td>90</td>\n",
       "      <td>8.05</td>\n",
       "      <td>US</td>\n",
       "      <td>1608217694</td>\n",
       "    </tr>\n",
       "    <tr>\n",
       "      <th>4</th>\n",
       "      <td>Punta Arenas</td>\n",
       "      <td>-53.15</td>\n",
       "      <td>-70.92</td>\n",
       "      <td>51.01</td>\n",
       "      <td>53</td>\n",
       "      <td>40</td>\n",
       "      <td>32.21</td>\n",
       "      <td>CL</td>\n",
       "      <td>1608217400</td>\n",
       "    </tr>\n",
       "  </tbody>\n",
       "</table>\n",
       "</div>"
      ],
      "text/plain": [
       "           City    Lat     Lng Max Temp Humidity Cloudiness  Wind Speed  \\\n",
       "0         Kapaa  22.08 -159.32       68       59          4       10.96   \n",
       "1    Kaitangata -46.28  169.85       54       79        100        3.00   \n",
       "2       Rikitea -23.12 -134.97    76.17       76         35       13.69   \n",
       "3       Fortuna  40.60 -124.16       48      100         90        8.05   \n",
       "4  Punta Arenas -53.15  -70.92    51.01       53         40       32.21   \n",
       "\n",
       "  Country        Date  \n",
       "0      US  1608217454  \n",
       "1      NZ  1608217471  \n",
       "2      PF  1608217461  \n",
       "3      US  1608217694  \n",
       "4      CL  1608217400  "
      ]
     },
     "execution_count": 8,
     "metadata": {},
     "output_type": "execute_result"
    }
   ],
   "source": [
    "# Columns for dataframe headers or indexes\n",
    "df_columns = ['City','Lat', 'Lng','Max Temp', 'Humidity', 'Cloudiness', 'Wind Speed', 'Country', 'Date']\n",
    "\n",
    "# Setting up empty dataframe to obtain \n",
    "weather_json_df = pd.DataFrame([], columns=df_columns)\n",
    "\n",
    "# Setting up FOR loop to convert json response list to dataframe\n",
    "for city in weather_json_list:\n",
    "    name = city['name']\n",
    "    Lat = city['coord']['lat']\n",
    "    Long = city['coord']['lon']\n",
    "    Max_Temp = city['main']['temp_max']\n",
    "    Humidity = city['main']['humidity']\n",
    "    Cloudiness = city['clouds']['all']\n",
    "    Wind_Speed = city['wind']['speed']\n",
    "    Country = city['sys']['country']\n",
    "    Date = city['dt']\n",
    "    New_data = [name, Lat, Long, Max_Temp, Humidity, Cloudiness, Wind_Speed, Country, Date]\n",
    "    weather_json_df.loc[len(weather_json_df)] = New_data\n",
    "\n",
    "# Outputting first 5 rows of dataframe\n",
    "weather_json_df.head()  "
   ]
  },
  {
   "cell_type": "code",
   "execution_count": 9,
   "metadata": {},
   "outputs": [
    {
     "data": {
      "text/html": [
       "<div>\n",
       "<style scoped>\n",
       "    .dataframe tbody tr th:only-of-type {\n",
       "        vertical-align: middle;\n",
       "    }\n",
       "\n",
       "    .dataframe tbody tr th {\n",
       "        vertical-align: top;\n",
       "    }\n",
       "\n",
       "    .dataframe thead th {\n",
       "        text-align: right;\n",
       "    }\n",
       "</style>\n",
       "<table border=\"1\" class=\"dataframe\">\n",
       "  <thead>\n",
       "    <tr style=\"text-align: right;\">\n",
       "      <th></th>\n",
       "      <th>Lat</th>\n",
       "      <th>Lng</th>\n",
       "      <th>Wind Speed</th>\n",
       "    </tr>\n",
       "  </thead>\n",
       "  <tbody>\n",
       "    <tr>\n",
       "      <th>count</th>\n",
       "      <td>553.000000</td>\n",
       "      <td>553.000000</td>\n",
       "      <td>553.000000</td>\n",
       "    </tr>\n",
       "    <tr>\n",
       "      <th>mean</th>\n",
       "      <td>18.815154</td>\n",
       "      <td>17.765750</td>\n",
       "      <td>8.606365</td>\n",
       "    </tr>\n",
       "    <tr>\n",
       "      <th>std</th>\n",
       "      <td>33.566604</td>\n",
       "      <td>92.063308</td>\n",
       "      <td>6.206201</td>\n",
       "    </tr>\n",
       "    <tr>\n",
       "      <th>min</th>\n",
       "      <td>-54.800000</td>\n",
       "      <td>-175.200000</td>\n",
       "      <td>0.200000</td>\n",
       "    </tr>\n",
       "    <tr>\n",
       "      <th>25%</th>\n",
       "      <td>-8.840000</td>\n",
       "      <td>-66.900000</td>\n",
       "      <td>3.890000</td>\n",
       "    </tr>\n",
       "    <tr>\n",
       "      <th>50%</th>\n",
       "      <td>24.090000</td>\n",
       "      <td>23.270000</td>\n",
       "      <td>7.000000</td>\n",
       "    </tr>\n",
       "    <tr>\n",
       "      <th>75%</th>\n",
       "      <td>46.430000</td>\n",
       "      <td>102.500000</td>\n",
       "      <td>11.410000</td>\n",
       "    </tr>\n",
       "    <tr>\n",
       "      <th>max</th>\n",
       "      <td>78.220000</td>\n",
       "      <td>179.320000</td>\n",
       "      <td>38.030000</td>\n",
       "    </tr>\n",
       "  </tbody>\n",
       "</table>\n",
       "</div>"
      ],
      "text/plain": [
       "              Lat         Lng  Wind Speed\n",
       "count  553.000000  553.000000  553.000000\n",
       "mean    18.815154   17.765750    8.606365\n",
       "std     33.566604   92.063308    6.206201\n",
       "min    -54.800000 -175.200000    0.200000\n",
       "25%     -8.840000  -66.900000    3.890000\n",
       "50%     24.090000   23.270000    7.000000\n",
       "75%     46.430000  102.500000   11.410000\n",
       "max     78.220000  179.320000   38.030000"
      ]
     },
     "execution_count": 9,
     "metadata": {},
     "output_type": "execute_result"
    }
   ],
   "source": [
    "# Summary outlook of dataframe\n",
    "weather_json_df.describe()"
   ]
  },
  {
   "cell_type": "markdown",
   "metadata": {},
   "source": [
    "### Convert Raw Data to DataFrame\n",
    "* Export the city data into a .csv.\n",
    "* Display the DataFrame"
   ]
  },
  {
   "cell_type": "code",
   "execution_count": 10,
   "metadata": {},
   "outputs": [],
   "source": [
    "# Exporting city data into a csv file\n",
    "weather_json_df.to_csv(\"./output_data/weather_json.csv\",encoding=\"utf-8\", index=False, header=True)"
   ]
  },
  {
   "cell_type": "code",
   "execution_count": 11,
   "metadata": {},
   "outputs": [
    {
     "data": {
      "text/html": [
       "<div>\n",
       "<style scoped>\n",
       "    .dataframe tbody tr th:only-of-type {\n",
       "        vertical-align: middle;\n",
       "    }\n",
       "\n",
       "    .dataframe tbody tr th {\n",
       "        vertical-align: top;\n",
       "    }\n",
       "\n",
       "    .dataframe thead th {\n",
       "        text-align: right;\n",
       "    }\n",
       "</style>\n",
       "<table border=\"1\" class=\"dataframe\">\n",
       "  <thead>\n",
       "    <tr style=\"text-align: right;\">\n",
       "      <th></th>\n",
       "      <th>City</th>\n",
       "      <th>Lat</th>\n",
       "      <th>Lng</th>\n",
       "      <th>Max Temp</th>\n",
       "      <th>Humidity</th>\n",
       "      <th>Cloudiness</th>\n",
       "      <th>Wind Speed</th>\n",
       "      <th>Country</th>\n",
       "      <th>Date</th>\n",
       "    </tr>\n",
       "  </thead>\n",
       "  <tbody>\n",
       "    <tr>\n",
       "      <th>0</th>\n",
       "      <td>Kapaa</td>\n",
       "      <td>22.08</td>\n",
       "      <td>-159.32</td>\n",
       "      <td>68</td>\n",
       "      <td>59</td>\n",
       "      <td>4</td>\n",
       "      <td>10.96</td>\n",
       "      <td>US</td>\n",
       "      <td>1608217454</td>\n",
       "    </tr>\n",
       "    <tr>\n",
       "      <th>1</th>\n",
       "      <td>Kaitangata</td>\n",
       "      <td>-46.28</td>\n",
       "      <td>169.85</td>\n",
       "      <td>54</td>\n",
       "      <td>79</td>\n",
       "      <td>100</td>\n",
       "      <td>3.00</td>\n",
       "      <td>NZ</td>\n",
       "      <td>1608217471</td>\n",
       "    </tr>\n",
       "    <tr>\n",
       "      <th>2</th>\n",
       "      <td>Rikitea</td>\n",
       "      <td>-23.12</td>\n",
       "      <td>-134.97</td>\n",
       "      <td>76.17</td>\n",
       "      <td>76</td>\n",
       "      <td>35</td>\n",
       "      <td>13.69</td>\n",
       "      <td>PF</td>\n",
       "      <td>1608217461</td>\n",
       "    </tr>\n",
       "    <tr>\n",
       "      <th>3</th>\n",
       "      <td>Fortuna</td>\n",
       "      <td>40.60</td>\n",
       "      <td>-124.16</td>\n",
       "      <td>48</td>\n",
       "      <td>100</td>\n",
       "      <td>90</td>\n",
       "      <td>8.05</td>\n",
       "      <td>US</td>\n",
       "      <td>1608217694</td>\n",
       "    </tr>\n",
       "    <tr>\n",
       "      <th>4</th>\n",
       "      <td>Punta Arenas</td>\n",
       "      <td>-53.15</td>\n",
       "      <td>-70.92</td>\n",
       "      <td>51.01</td>\n",
       "      <td>53</td>\n",
       "      <td>40</td>\n",
       "      <td>32.21</td>\n",
       "      <td>CL</td>\n",
       "      <td>1608217400</td>\n",
       "    </tr>\n",
       "    <tr>\n",
       "      <th>...</th>\n",
       "      <td>...</td>\n",
       "      <td>...</td>\n",
       "      <td>...</td>\n",
       "      <td>...</td>\n",
       "      <td>...</td>\n",
       "      <td>...</td>\n",
       "      <td>...</td>\n",
       "      <td>...</td>\n",
       "      <td>...</td>\n",
       "    </tr>\n",
       "    <tr>\n",
       "      <th>548</th>\n",
       "      <td>Kez</td>\n",
       "      <td>57.90</td>\n",
       "      <td>53.72</td>\n",
       "      <td>19.08</td>\n",
       "      <td>97</td>\n",
       "      <td>100</td>\n",
       "      <td>11.23</td>\n",
       "      <td>RU</td>\n",
       "      <td>1608217832</td>\n",
       "    </tr>\n",
       "    <tr>\n",
       "      <th>549</th>\n",
       "      <td>Bitung</td>\n",
       "      <td>1.45</td>\n",
       "      <td>125.18</td>\n",
       "      <td>75.2</td>\n",
       "      <td>94</td>\n",
       "      <td>40</td>\n",
       "      <td>2.24</td>\n",
       "      <td>ID</td>\n",
       "      <td>1608217833</td>\n",
       "    </tr>\n",
       "    <tr>\n",
       "      <th>550</th>\n",
       "      <td>San Andrés</td>\n",
       "      <td>12.58</td>\n",
       "      <td>-81.70</td>\n",
       "      <td>84.2</td>\n",
       "      <td>74</td>\n",
       "      <td>20</td>\n",
       "      <td>13.87</td>\n",
       "      <td>CO</td>\n",
       "      <td>1608217833</td>\n",
       "    </tr>\n",
       "    <tr>\n",
       "      <th>551</th>\n",
       "      <td>Aykhal</td>\n",
       "      <td>66.00</td>\n",
       "      <td>111.50</td>\n",
       "      <td>-29.2</td>\n",
       "      <td>66</td>\n",
       "      <td>0</td>\n",
       "      <td>2.24</td>\n",
       "      <td>RU</td>\n",
       "      <td>1608217833</td>\n",
       "    </tr>\n",
       "    <tr>\n",
       "      <th>552</th>\n",
       "      <td>Makakilo City</td>\n",
       "      <td>21.35</td>\n",
       "      <td>-158.09</td>\n",
       "      <td>75</td>\n",
       "      <td>100</td>\n",
       "      <td>1</td>\n",
       "      <td>6.93</td>\n",
       "      <td>US</td>\n",
       "      <td>1608217572</td>\n",
       "    </tr>\n",
       "  </tbody>\n",
       "</table>\n",
       "<p>553 rows × 9 columns</p>\n",
       "</div>"
      ],
      "text/plain": [
       "              City    Lat     Lng Max Temp Humidity Cloudiness  Wind Speed  \\\n",
       "0            Kapaa  22.08 -159.32       68       59          4       10.96   \n",
       "1       Kaitangata -46.28  169.85       54       79        100        3.00   \n",
       "2          Rikitea -23.12 -134.97    76.17       76         35       13.69   \n",
       "3          Fortuna  40.60 -124.16       48      100         90        8.05   \n",
       "4     Punta Arenas -53.15  -70.92    51.01       53         40       32.21   \n",
       "..             ...    ...     ...      ...      ...        ...         ...   \n",
       "548            Kez  57.90   53.72    19.08       97        100       11.23   \n",
       "549         Bitung   1.45  125.18     75.2       94         40        2.24   \n",
       "550     San Andrés  12.58  -81.70     84.2       74         20       13.87   \n",
       "551         Aykhal  66.00  111.50    -29.2       66          0        2.24   \n",
       "552  Makakilo City  21.35 -158.09       75      100          1        6.93   \n",
       "\n",
       "    Country        Date  \n",
       "0        US  1608217454  \n",
       "1        NZ  1608217471  \n",
       "2        PF  1608217461  \n",
       "3        US  1608217694  \n",
       "4        CL  1608217400  \n",
       "..      ...         ...  \n",
       "548      RU  1608217832  \n",
       "549      ID  1608217833  \n",
       "550      CO  1608217833  \n",
       "551      RU  1608217833  \n",
       "552      US  1608217572  \n",
       "\n",
       "[553 rows x 9 columns]"
      ]
     },
     "execution_count": 11,
     "metadata": {},
     "output_type": "execute_result"
    }
   ],
   "source": [
    "# Displaying the dataframe\n",
    "weather_json_df"
   ]
  },
  {
   "cell_type": "code",
   "execution_count": null,
   "metadata": {},
   "outputs": [],
   "source": []
  },
  {
   "cell_type": "markdown",
   "metadata": {},
   "source": [
    "## Inspect the data and remove the cities where the humidity > 100%.\n",
    "----\n",
    "Skip this step if there are no cities that have humidity > 100%. "
   ]
  },
  {
   "cell_type": "code",
   "execution_count": 12,
   "metadata": {},
   "outputs": [
    {
     "data": {
      "text/plain": [
       "0"
      ]
     },
     "execution_count": 12,
     "metadata": {},
     "output_type": "execute_result"
    }
   ],
   "source": [
    "# Checking for cities with humidity > 100%\n",
    "hum_lsd_zr_df = len(weather_json_df.loc[weather_json_df['Humidity'] > 100])\n",
    "hum_lsd_zr_df\n",
    "\n",
    "# NO HUMIDITY DATA ABOVE 100%"
   ]
  },
  {
   "cell_type": "code",
   "execution_count": 13,
   "metadata": {},
   "outputs": [],
   "source": [
    "#  Get the indices of cities that have humidity over 100%. (THERE WERE NONE)\n",
    "\n",
    "# \"NO CITY WITH HUMIDITY OVER 100%\"\n",
    "\n",
    "# Also, since no Humidity outliers, I kept my dataframe as \"clean_city_data\""
   ]
  },
  {
   "cell_type": "code",
   "execution_count": 22,
   "metadata": {},
   "outputs": [
    {
     "data": {
      "text/plain": [
       "City          553\n",
       "Lat           553\n",
       "Lng           553\n",
       "Max Temp      553\n",
       "Humidity      553\n",
       "Cloudiness    553\n",
       "Wind Speed    553\n",
       "Country       553\n",
       "Date          553\n",
       "dtype: int64"
      ]
     },
     "execution_count": 22,
     "metadata": {},
     "output_type": "execute_result"
    }
   ],
   "source": [
    "# Completing dataframe cleanup\n",
    "clean_city_data = weather_json_df.dropna(how='any')\n",
    "clean_city_data.count()"
   ]
  },
  {
   "cell_type": "code",
   "execution_count": 23,
   "metadata": {},
   "outputs": [
    {
     "data": {
      "text/html": [
       "<div>\n",
       "<style scoped>\n",
       "    .dataframe tbody tr th:only-of-type {\n",
       "        vertical-align: middle;\n",
       "    }\n",
       "\n",
       "    .dataframe tbody tr th {\n",
       "        vertical-align: top;\n",
       "    }\n",
       "\n",
       "    .dataframe thead th {\n",
       "        text-align: right;\n",
       "    }\n",
       "</style>\n",
       "<table border=\"1\" class=\"dataframe\">\n",
       "  <thead>\n",
       "    <tr style=\"text-align: right;\">\n",
       "      <th></th>\n",
       "      <th>City</th>\n",
       "      <th>Lat</th>\n",
       "      <th>Lng</th>\n",
       "      <th>Max Temp</th>\n",
       "      <th>Humidity</th>\n",
       "      <th>Cloudiness</th>\n",
       "      <th>Wind Speed</th>\n",
       "      <th>Country</th>\n",
       "      <th>Date</th>\n",
       "    </tr>\n",
       "  </thead>\n",
       "  <tbody>\n",
       "    <tr>\n",
       "      <th>0</th>\n",
       "      <td>Kapaa</td>\n",
       "      <td>22.08</td>\n",
       "      <td>-159.32</td>\n",
       "      <td>68</td>\n",
       "      <td>59</td>\n",
       "      <td>4</td>\n",
       "      <td>10.96</td>\n",
       "      <td>US</td>\n",
       "      <td>1608217454</td>\n",
       "    </tr>\n",
       "    <tr>\n",
       "      <th>1</th>\n",
       "      <td>Kaitangata</td>\n",
       "      <td>-46.28</td>\n",
       "      <td>169.85</td>\n",
       "      <td>54</td>\n",
       "      <td>79</td>\n",
       "      <td>100</td>\n",
       "      <td>3.00</td>\n",
       "      <td>NZ</td>\n",
       "      <td>1608217471</td>\n",
       "    </tr>\n",
       "    <tr>\n",
       "      <th>2</th>\n",
       "      <td>Rikitea</td>\n",
       "      <td>-23.12</td>\n",
       "      <td>-134.97</td>\n",
       "      <td>76.17</td>\n",
       "      <td>76</td>\n",
       "      <td>35</td>\n",
       "      <td>13.69</td>\n",
       "      <td>PF</td>\n",
       "      <td>1608217461</td>\n",
       "    </tr>\n",
       "    <tr>\n",
       "      <th>3</th>\n",
       "      <td>Fortuna</td>\n",
       "      <td>40.60</td>\n",
       "      <td>-124.16</td>\n",
       "      <td>48</td>\n",
       "      <td>100</td>\n",
       "      <td>90</td>\n",
       "      <td>8.05</td>\n",
       "      <td>US</td>\n",
       "      <td>1608217694</td>\n",
       "    </tr>\n",
       "    <tr>\n",
       "      <th>4</th>\n",
       "      <td>Punta Arenas</td>\n",
       "      <td>-53.15</td>\n",
       "      <td>-70.92</td>\n",
       "      <td>51.01</td>\n",
       "      <td>53</td>\n",
       "      <td>40</td>\n",
       "      <td>32.21</td>\n",
       "      <td>CL</td>\n",
       "      <td>1608217400</td>\n",
       "    </tr>\n",
       "    <tr>\n",
       "      <th>...</th>\n",
       "      <td>...</td>\n",
       "      <td>...</td>\n",
       "      <td>...</td>\n",
       "      <td>...</td>\n",
       "      <td>...</td>\n",
       "      <td>...</td>\n",
       "      <td>...</td>\n",
       "      <td>...</td>\n",
       "      <td>...</td>\n",
       "    </tr>\n",
       "    <tr>\n",
       "      <th>548</th>\n",
       "      <td>Kez</td>\n",
       "      <td>57.90</td>\n",
       "      <td>53.72</td>\n",
       "      <td>19.08</td>\n",
       "      <td>97</td>\n",
       "      <td>100</td>\n",
       "      <td>11.23</td>\n",
       "      <td>RU</td>\n",
       "      <td>1608217832</td>\n",
       "    </tr>\n",
       "    <tr>\n",
       "      <th>549</th>\n",
       "      <td>Bitung</td>\n",
       "      <td>1.45</td>\n",
       "      <td>125.18</td>\n",
       "      <td>75.2</td>\n",
       "      <td>94</td>\n",
       "      <td>40</td>\n",
       "      <td>2.24</td>\n",
       "      <td>ID</td>\n",
       "      <td>1608217833</td>\n",
       "    </tr>\n",
       "    <tr>\n",
       "      <th>550</th>\n",
       "      <td>San Andrés</td>\n",
       "      <td>12.58</td>\n",
       "      <td>-81.70</td>\n",
       "      <td>84.2</td>\n",
       "      <td>74</td>\n",
       "      <td>20</td>\n",
       "      <td>13.87</td>\n",
       "      <td>CO</td>\n",
       "      <td>1608217833</td>\n",
       "    </tr>\n",
       "    <tr>\n",
       "      <th>551</th>\n",
       "      <td>Aykhal</td>\n",
       "      <td>66.00</td>\n",
       "      <td>111.50</td>\n",
       "      <td>-29.2</td>\n",
       "      <td>66</td>\n",
       "      <td>0</td>\n",
       "      <td>2.24</td>\n",
       "      <td>RU</td>\n",
       "      <td>1608217833</td>\n",
       "    </tr>\n",
       "    <tr>\n",
       "      <th>552</th>\n",
       "      <td>Makakilo City</td>\n",
       "      <td>21.35</td>\n",
       "      <td>-158.09</td>\n",
       "      <td>75</td>\n",
       "      <td>100</td>\n",
       "      <td>1</td>\n",
       "      <td>6.93</td>\n",
       "      <td>US</td>\n",
       "      <td>1608217572</td>\n",
       "    </tr>\n",
       "  </tbody>\n",
       "</table>\n",
       "<p>553 rows × 9 columns</p>\n",
       "</div>"
      ],
      "text/plain": [
       "              City    Lat     Lng Max Temp Humidity Cloudiness  Wind Speed  \\\n",
       "0            Kapaa  22.08 -159.32       68       59          4       10.96   \n",
       "1       Kaitangata -46.28  169.85       54       79        100        3.00   \n",
       "2          Rikitea -23.12 -134.97    76.17       76         35       13.69   \n",
       "3          Fortuna  40.60 -124.16       48      100         90        8.05   \n",
       "4     Punta Arenas -53.15  -70.92    51.01       53         40       32.21   \n",
       "..             ...    ...     ...      ...      ...        ...         ...   \n",
       "548            Kez  57.90   53.72    19.08       97        100       11.23   \n",
       "549         Bitung   1.45  125.18     75.2       94         40        2.24   \n",
       "550     San Andrés  12.58  -81.70     84.2       74         20       13.87   \n",
       "551         Aykhal  66.00  111.50    -29.2       66          0        2.24   \n",
       "552  Makakilo City  21.35 -158.09       75      100          1        6.93   \n",
       "\n",
       "    Country        Date  \n",
       "0        US  1608217454  \n",
       "1        NZ  1608217471  \n",
       "2        PF  1608217461  \n",
       "3        US  1608217694  \n",
       "4        CL  1608217400  \n",
       "..      ...         ...  \n",
       "548      RU  1608217832  \n",
       "549      ID  1608217833  \n",
       "550      CO  1608217833  \n",
       "551      RU  1608217833  \n",
       "552      US  1608217572  \n",
       "\n",
       "[553 rows x 9 columns]"
      ]
     },
     "execution_count": 23,
     "metadata": {},
     "output_type": "execute_result"
    }
   ],
   "source": [
    "# Make a new DataFrame equal to the city data to drop all humidity outliers by index.\n",
    "# Passing \"inplace=False\" will make a copy of the city_data DataFrame, which we call \"clean_city_data\".\n",
    "\n",
    "# Displaying clean city data\n",
    "clean_city_data"
   ]
  },
  {
   "cell_type": "code",
   "execution_count": 24,
   "metadata": {},
   "outputs": [],
   "source": [
    "# Make a new DataFrame equal to the city data to drop all humidity outliers by index.\n",
    "# Passing \"inplace=False\" will make a copy of the city_data DataFrame, which we call \"clean_city_data\".\n"
   ]
  },
  {
   "cell_type": "code",
   "execution_count": null,
   "metadata": {},
   "outputs": [],
   "source": []
  },
  {
   "cell_type": "markdown",
   "metadata": {},
   "source": [
    "## Plotting the Data\n",
    "* Use proper labeling of the plots using plot titles (including date of analysis) and axes labels.\n",
    "* Save the plotted figures as .pngs."
   ]
  },
  {
   "cell_type": "markdown",
   "metadata": {},
   "source": [
    "## Latitude vs. Temperature Plot"
   ]
  },
  {
   "cell_type": "code",
   "execution_count": 25,
   "metadata": {},
   "outputs": [
    {
     "data": {
      "image/png": "[encoded data removed]",
      "text/plain": [
       "<Figure size 432x288 with 1 Axes>"
      ]
     },
     "metadata": {
      "needs_background": "light"
     },
     "output_type": "display_data"
    }
   ],
   "source": [
    "# Plotting Latitude vs Temperature Scatter Plot\n",
    "fig, ax = plt.subplots()\n",
    "clean_city_data.plot(kind='scatter', x='Lat', y='Max Temp', ax=ax, color='darkblue', alpha=1, marker='o')\n",
    "#clean_city_data.plot.scatter(x='Lat', y='Max Temp', ax=ax)\n",
    "plt.xlabel('Latitude (deg)')\n",
    "plt.ylabel('Maximum Temperature (F)')\n",
    "plt.title('\\nScatter plot of City Latitude versus Maximum\\n Templerature (12/15/20)')\n",
    "ax.grid()\n",
    "plt.savefig(\"./output_data/LatitudevsMax_Temp.png\")"
   ]
  },
  {
   "cell_type": "markdown",
   "metadata": {},
   "source": [
    "Comment on Latitude vs Temperature Scatter Plot above:\n",
    "From the above plot, we see that temperatures are higher around the equator and drop as measurements move towards the poles. The Northern hemisphere seems to have colder temperatures than the Southern hemisphere."
   ]
  },
  {
   "cell_type": "markdown",
   "metadata": {},
   "source": [
    "## Latitude vs. Humidity Plot"
   ]
  },
  {
   "cell_type": "markdown",
   "metadata": {},
   "source": [
    "Latitude vs Humidity plot: Humidity levels around the equator are high. Above latitude 20deg, humidity presents higher especially at the top quarter of Northern hemisphere."
   ]
  },
  {
   "cell_type": "code",
   "execution_count": 26,
   "metadata": {},
   "outputs": [
    {
     "data": {
      "image/png": "[encoded data removed]",
      "text/plain": [
       "<Figure size 432x288 with 1 Axes>"
      ]
     },
     "metadata": {
      "needs_background": "light"
     },
     "output_type": "display_data"
    }
   ],
   "source": [
    "fig, ax = plt.subplots()\n",
    "clean_city_data.plot(kind='scatter', x='Lat', y='Humidity', ax=ax, color='darkblue', alpha=1, marker='o')\n",
    "#clean_city_data.plot.scatter(x='Lat', y='Max Temp', ax=ax)\n",
    "plt.xlabel('Latitude (deg)')\n",
    "plt.ylabel('Humidity (%)')\n",
    "plt.title('\\nScatter plot of City Latitude versus Humidity (12/15/20)')\n",
    "ax.grid()\n",
    "plt.savefig(\"./output_data/LatitudevsHumidity.png\")"
   ]
  },
  {
   "cell_type": "markdown",
   "metadata": {},
   "source": [
    "## Latitude vs. Cloudiness Plot"
   ]
  },
  {
   "cell_type": "markdown",
   "metadata": {},
   "source": [
    "Latitude vs Cloudiness plot: Quite sparse data, however higher comparative cloudiness in Northern hemisphere or higher latitudes. Significant cloudiness though around equator."
   ]
  },
  {
   "cell_type": "code",
   "execution_count": 27,
   "metadata": {},
   "outputs": [
    {
     "data": {
      "image/png": "[encoded data removed]",
      "text/plain": [
       "<Figure size 432x288 with 1 Axes>"
      ]
     },
     "metadata": {
      "needs_background": "light"
     },
     "output_type": "display_data"
    }
   ],
   "source": [
    "fig, ax = plt.subplots()\n",
    "clean_city_data.plot(kind='scatter', x='Lat', y='Cloudiness', ax=ax, color='darkblue', alpha=1, marker='o')\n",
    "#clean_city_data.plot.scatter(x='Lat', y='Max Temp', ax=ax)\n",
    "plt.xlabel('Latitude (deg)')\n",
    "plt.ylabel('Cloudiness (%)')\n",
    "plt.title('\\nScatter plot of City Latitude versus Cloudiness (12/15/20)')\n",
    "ax.grid()\n",
    "plt.savefig(\"./output_data/LatitudevsCloudiness.png\")"
   ]
  },
  {
   "cell_type": "code",
   "execution_count": null,
   "metadata": {},
   "outputs": [],
   "source": []
  },
  {
   "cell_type": "markdown",
   "metadata": {},
   "source": [
    "## Latitude vs. Wind Speed Plot"
   ]
  },
  {
   "cell_type": "markdown",
   "metadata": {},
   "source": [
    "Latitude vs Wind Speed: It appears low windspeed evenly distributed up to 10 degrees off the poles of both hemispheres. Significant concentration around latitude 40deg North."
   ]
  },
  {
   "cell_type": "code",
   "execution_count": 28,
   "metadata": {},
   "outputs": [
    {
     "data": {
      "image/png": "[encoded data removed]",
      "text/plain": [
       "<Figure size 432x288 with 1 Axes>"
      ]
     },
     "metadata": {
      "needs_background": "light"
     },
     "output_type": "display_data"
    }
   ],
   "source": [
    "fig, ax = plt.subplots()\n",
    "clean_city_data.plot(kind='scatter', x='Lat', y='Wind Speed', ax=ax, color='darkblue', alpha=1, marker='o')\n",
    "#clean_city_data.plot.scatter(x='Lat', y='Max Temp', ax=ax)\n",
    "plt.xlabel('Latitude (deg)')\n",
    "plt.ylabel('Wind Speed (mph)')\n",
    "plt.title('\\nScatter plot of City Latitude versus Wind Speed (12/15/20)')\n",
    "ax.grid()\n",
    "plt.savefig(\"./output_data/LatitudevsWind_Speed.png\")"
   ]
  },
  {
   "cell_type": "markdown",
   "metadata": {},
   "source": [
    "## Linear Regression"
   ]
  },
  {
   "cell_type": "code",
   "execution_count": null,
   "metadata": {},
   "outputs": [],
   "source": []
  },
  {
   "cell_type": "markdown",
   "metadata": {},
   "source": [
    "####  Northern Hemisphere - Max Temp vs. Latitude Linear Regression"
   ]
  },
  {
   "cell_type": "markdown",
   "metadata": {},
   "source": [
    "Linear Regression (Latitude vs Max Temp): Plot shows good correlation between latitude and max temperature; temperatures fall as we drift towards the North pole, and are higher at the equator. Follows that the equator region is largely sun-bathed. The correlation between both variables is quite strong."
   ]
  },
  {
   "cell_type": "code",
   "execution_count": 29,
   "metadata": {},
   "outputs": [
    {
     "name": "stdout",
     "output_type": "stream",
     "text": [
      "R-Squared: 0.7130294560077994\n"
     ]
    },
    {
     "data": {
      "image/png": "[encoded data removed]",
      "text/plain": [
       "<Figure size 432x288 with 1 Axes>"
      ]
     },
     "metadata": {
      "needs_background": "light"
     },
     "output_type": "display_data"
    },
    {
     "data": {
      "text/plain": [
       "<Figure size 432x288 with 0 Axes>"
      ]
     },
     "metadata": {},
     "output_type": "display_data"
    }
   ],
   "source": [
    "## Convert to floats and store Latitude and Max Temp as x and y values respectively\n",
    "NorLat_temp_plt_df = clean_city_data.loc[clean_city_data['Lat'] >= 0,['Lat','Max Temp']]\n",
    "x_values = NorLat_temp_plt_df ['Lat'].astype('float')\n",
    "y_values = NorLat_temp_plt_df ['Max Temp'].astype('float')\n",
    "\n",
    "\n",
    "# Run linear regression\n",
    "(slope, intercept, rvalue, pvalue, stderr) = linregress(x_values, y_values)\n",
    "regress_values = x_values * slope + intercept\n",
    "line_eq = \"y = \" + str(round(slope,2)) + \"x + \" + str(round(intercept,2))\n",
    "\n",
    "# Plot scatter plot\n",
    "plt.scatter(x_values,y_values)\n",
    "\n",
    "# Plot regression line\n",
    "plt.plot(x_values,regress_values,\"r-\")\n",
    "plt.annotate(line_eq,(30,90),fontsize=15,color=\"red\")\n",
    "\n",
    "# Plot Title\n",
    "plt.title('\\nScatter plot of City Latitude versus Maximum Temperature \\n(12/15/20) (Northern Hemisphere)')\n",
    "\n",
    "# Label plot\n",
    "plt.xlabel('Latitude (deg)')\n",
    "plt.ylabel('Maximum Temperarture (F)')\n",
    "\n",
    "# Print r square value\n",
    "print(f\"R-Squared: {rvalue**2}\")\n",
    "\n",
    "# Show plot\n",
    "plt.show()\n",
    "\n",
    "# Output png\n",
    "plt.savefig(\"./output_data/LatitudevsMaxTemp_North.png\")"
   ]
  },
  {
   "cell_type": "code",
   "execution_count": null,
   "metadata": {},
   "outputs": [],
   "source": []
  },
  {
   "cell_type": "markdown",
   "metadata": {},
   "source": [
    "####  Southern Hemisphere - Max Temp vs. Latitude Linear Regression"
   ]
  },
  {
   "cell_type": "markdown",
   "metadata": {},
   "source": [
    "Souther Hemisphere (Latitude vs Max Temperature): Temperatures drop as we drift towards the south pole. Higher temperatures around equator which is largely sun-bathed year-round. The R-Squared data shows reasonable correlation between both variables."
   ]
  },
  {
   "cell_type": "code",
   "execution_count": 30,
   "metadata": {},
   "outputs": [
    {
     "name": "stdout",
     "output_type": "stream",
     "text": [
      "R-Squared: 0.41460233145596664\n"
     ]
    },
    {
     "data": {
      "image/png": "[encoded data removed]",
      "text/plain": [
       "<Figure size 432x288 with 1 Axes>"
      ]
     },
     "metadata": {
      "needs_background": "light"
     },
     "output_type": "display_data"
    },
    {
     "data": {
      "text/plain": [
       "<Figure size 432x288 with 0 Axes>"
      ]
     },
     "metadata": {},
     "output_type": "display_data"
    }
   ],
   "source": [
    "## Convert to floats and store Latitude and Max Temp as x and y values\n",
    "SouLat_Temp_plt_df = clean_city_data.loc[clean_city_data['Lat'] < 0,['Lat','Max Temp']]\n",
    "x_values = SouLat_Temp_plt_df['Lat'].astype('float')\n",
    "y_values = SouLat_Temp_plt_df['Max Temp'].astype('float')\n",
    "\n",
    "# Run linear regression\n",
    "(slope, intercept, rvalue, pvalue, stderr) = linregress(x_values, y_values)\n",
    "regress_values = x_values * slope + intercept\n",
    "line_eq = \"y = \" + str(round(slope,2)) + \"x + \" + str(round(intercept,2))\n",
    "\n",
    "# Plot scatter plot\n",
    "plt.scatter(x_values,y_values)\n",
    "\n",
    "# Plot Title\n",
    "plt.title('\\nScatter plot of City Latitude versus Maximum Temperature \\n(12/15/20) (Southern Hemisphere)')\n",
    "\n",
    "# Plot regression line\n",
    "plt.plot(x_values,regress_values,\"r-\")\n",
    "plt.annotate(line_eq,(-40,45),fontsize=15,color=\"red\")\n",
    "\n",
    "# Label plot\n",
    "plt.xlabel('Latitude (deg)')\n",
    "plt.ylabel('Maximum Temperature (F)')\n",
    "\n",
    "# Print r square value\n",
    "print(f\"R-Squared: {rvalue**2}\")\n",
    "\n",
    "# Show plot\n",
    "plt.show()\n",
    "\n",
    "# Output png\n",
    "plt.savefig(\"./output_data/LatitudevsMax_Temp_South.png\")"
   ]
  },
  {
   "cell_type": "markdown",
   "metadata": {},
   "source": [
    "####  Northern Hemisphere - Humidity (%) vs. Latitude Linear Regression"
   ]
  },
  {
   "cell_type": "markdown",
   "metadata": {},
   "source": [
    "Northern Hemisphere (Latitude vs Humidity): Humidity increasing as drift towards north pole, certainly higher concentration around upper quartile of Northern hemisphere. Constant humidity around equator showing consequent from higher temperatures. R-Squared value shows reasonable correlation between both variables measured."
   ]
  },
  {
   "cell_type": "code",
   "execution_count": 31,
   "metadata": {},
   "outputs": [
    {
     "name": "stdout",
     "output_type": "stream",
     "text": [
      "R-Squared: 0.13984269601764523\n"
     ]
    },
    {
     "data": {
      "image/png": "[encoded data removed]",
      "text/plain": [
       "<Figure size 432x288 with 1 Axes>"
      ]
     },
     "metadata": {
      "needs_background": "light"
     },
     "output_type": "display_data"
    },
    {
     "data": {
      "text/plain": [
       "<Figure size 432x288 with 0 Axes>"
      ]
     },
     "metadata": {},
     "output_type": "display_data"
    }
   ],
   "source": [
    "## Convert to floats and store Latitude and Humidity as x and y values\n",
    "NorLat_Hum_plt_df = clean_city_data.loc[clean_city_data['Lat'] >= 0,['Lat','Humidity']]\n",
    "x_values = NorLat_Hum_plt_df['Lat'].astype('float')\n",
    "y_values = NorLat_Hum_plt_df ['Humidity'].astype('float')\n",
    "\n",
    "# Run linear regression\n",
    "(slope, intercept, rvalue, pvalue, stderr) = linregress(x_values, y_values)\n",
    "regress_values = x_values * slope + intercept\n",
    "line_eq = \"y = \" + str(round(slope,2)) + \"x + \" + str(round(intercept,2))\n",
    "\n",
    "# Plot scatter plot\n",
    "plt.scatter(x_values,y_values)\n",
    "\n",
    "# Plot regression line\n",
    "plt.plot(x_values,regress_values,\"r-\")\n",
    "plt.annotate(line_eq,(30,20),fontsize=15,color=\"red\")\n",
    "\n",
    "# Plot Title\n",
    "plt.title('\\nScatter plot of City Latitude versus Humidity (12/15/20)\\n(Northern Hemisphere)')\n",
    "\n",
    "# Label plot\n",
    "plt.xlabel('Latitude (deg)')\n",
    "plt.ylabel('Humidity (%)')\n",
    "\n",
    "# Print r square value\n",
    "print(f\"R-Squared: {rvalue**2}\")\n",
    "\n",
    "# Show plot\n",
    "plt.show()\n",
    "\n",
    "# Output png\n",
    "plt.savefig(\"./output_data/LatitudevsHumidity_North.png\")"
   ]
  },
  {
   "cell_type": "code",
   "execution_count": null,
   "metadata": {},
   "outputs": [],
   "source": []
  },
  {
   "cell_type": "markdown",
   "metadata": {},
   "source": [
    "####  Southern Hemisphere - Humidity (%) vs. Latitude Linear Regression"
   ]
  },
  {
   "cell_type": "markdown",
   "metadata": {},
   "source": [
    "Southern Hemisphere (Latitude vs Humidity): Not very significant correlation between both variables measured i.e. latitude and humidity, however data shows higher humidity around tropics which does issue from higher relative temperatures."
   ]
  },
  {
   "cell_type": "code",
   "execution_count": 32,
   "metadata": {},
   "outputs": [
    {
     "name": "stdout",
     "output_type": "stream",
     "text": [
      "R-Squared: 0.002671313723157487\n"
     ]
    },
    {
     "data": {
      "image/png": "[encoded data removed]",
      "text/plain": [
       "<Figure size 432x288 with 1 Axes>"
      ]
     },
     "metadata": {
      "needs_background": "light"
     },
     "output_type": "display_data"
    },
    {
     "data": {
      "text/plain": [
       "<Figure size 432x288 with 0 Axes>"
      ]
     },
     "metadata": {},
     "output_type": "display_data"
    }
   ],
   "source": [
    "## Convert to floats and store Latitude and Humidity as x and y values\n",
    "SouLat_Hum_plt_df = clean_city_data.loc[clean_city_data['Lat'] < 0,['Lat','Humidity']]\n",
    "x_values = SouLat_Hum_plt_df['Lat'].astype('float')\n",
    "y_values = SouLat_Hum_plt_df ['Humidity'].astype('float')\n",
    "# Run linear regression\n",
    "(slope, intercept, rvalue, pvalue, stderr) = linregress(x_values, y_values)\n",
    "regress_values = x_values * slope + intercept\n",
    "line_eq = \"y = \" + str(round(slope,2)) + \"x + \" + str(round(intercept,2))\n",
    "\n",
    "# Plot scatter plot\n",
    "plt.scatter(x_values,y_values)\n",
    "\n",
    "# Plot regression line\n",
    "plt.plot(x_values,regress_values,\"r-\")\n",
    "plt.annotate(line_eq,(-50,22),fontsize=15,color=\"red\")\n",
    "\n",
    "# Plot Title\n",
    "plt.title('\\nScatter plot of City Latitude versus Humidity (12/15/20)\\n(Southern Hemisphere)')\n",
    "\n",
    "# Label plot\n",
    "plt.xlabel('Latitude (deg)')\n",
    "plt.ylabel('Humidity (%)')\n",
    "\n",
    "# Print r square value\n",
    "print(f\"R-Squared: {rvalue**2}\")\n",
    "\n",
    "# Show plot\n",
    "plt.show()\n",
    "\n",
    "# Output png\n",
    "plt.savefig(\"./output_data/LatitudevsHumidity_South.png\")"
   ]
  },
  {
   "cell_type": "markdown",
   "metadata": {},
   "source": [
    "####  Northern Hemisphere - Cloudiness (%) vs. Latitude Linear Regression"
   ]
  },
  {
   "cell_type": "markdown",
   "metadata": {},
   "source": [
    "Northern Hemisphere (Latitude vs Cloudiness): R-Squared value shows weak correlation between both parameters or variables. Data shows fairly even distribution. Cloudiness appears not to have much relationship with latitude. Around latitude 80 deg North appears not to have much cloudiness."
   ]
  },
  {
   "cell_type": "code",
   "execution_count": 33,
   "metadata": {},
   "outputs": [
    {
     "name": "stdout",
     "output_type": "stream",
     "text": [
      "R-Squared: 0.05742540489127906\n"
     ]
    },
    {
     "data": {
      "image/png": "[encoded data removed]",
      "text/plain": [
       "<Figure size 432x288 with 1 Axes>"
      ]
     },
     "metadata": {
      "needs_background": "light"
     },
     "output_type": "display_data"
    },
    {
     "data": {
      "text/plain": [
       "<Figure size 432x288 with 0 Axes>"
      ]
     },
     "metadata": {},
     "output_type": "display_data"
    }
   ],
   "source": [
    "## Convert to floats and store Latitude and Cloudiness as x and y values\n",
    "NorLat_Cld_plt_df = clean_city_data.loc[clean_city_data['Lat'] >= 0,['Lat','Cloudiness']]\n",
    "x_values = NorLat_Cld_plt_df['Lat'].astype('float')\n",
    "y_values = NorLat_Cld_plt_df ['Cloudiness'].astype('float')\n",
    "# Run linear regression\n",
    "(slope, intercept, rvalue, pvalue, stderr) = linregress(x_values, y_values)\n",
    "regress_values = x_values * slope + intercept\n",
    "line_eq = \"y = \" + str(round(slope,2)) + \"x + \" + str(round(intercept,2))\n",
    "\n",
    "# Plot scatter plot\n",
    "plt.scatter(x_values,y_values)\n",
    "\n",
    "# Plot Title\n",
    "plt.title('\\nScatter plot of City Latitude versus Cloudiness (%) (12/15/20)\\n(Northern Hemisphere)')\n",
    "\n",
    "# Plot regression line\n",
    "plt.plot(x_values,regress_values,\"r-\")\n",
    "plt.annotate(line_eq,(0,60),fontsize=15,color=\"red\")\n",
    "\n",
    "# Label plot\n",
    "plt.xlabel('Latitude (deg)')\n",
    "plt.ylabel('Cloudiness (%)')\n",
    "\n",
    "# Print r square value\n",
    "print(f\"R-Squared: {rvalue**2}\")\n",
    "\n",
    "# Show plot\n",
    "plt.show()\n",
    "\n",
    "# Output png\n",
    "plt.savefig(\"./output_data/LatitudevsCloudiness_North.png\")"
   ]
  },
  {
   "cell_type": "markdown",
   "metadata": {},
   "source": [
    "####  Southern Hemisphere - Cloudiness (%) vs. Latitude Linear Regression"
   ]
  },
  {
   "cell_type": "markdown",
   "metadata": {},
   "source": [
    "Southern Hemisphere (Latitude vs Cloudiness): Plot shows weak correlation between both parameters or variables. However, it's comparatively more cloudy around the tropics than the lower Southern hemisphere."
   ]
  },
  {
   "cell_type": "code",
   "execution_count": 34,
   "metadata": {},
   "outputs": [
    {
     "name": "stdout",
     "output_type": "stream",
     "text": [
      "R-Squared: 0.04974665200459555\n"
     ]
    },
    {
     "data": {
      "image/png": "[encoded data removed]",
      "text/plain": [
       "<Figure size 432x288 with 1 Axes>"
      ]
     },
     "metadata": {
      "needs_background": "light"
     },
     "output_type": "display_data"
    },
    {
     "data": {
      "text/plain": [
       "<Figure size 432x288 with 0 Axes>"
      ]
     },
     "metadata": {},
     "output_type": "display_data"
    }
   ],
   "source": [
    "## Convert to floats and store Latitude and Cloudiness as x and y values respectively\n",
    "SouLat_Cld_plt_df = clean_city_data.loc[clean_city_data['Lat'] < 0,['Lat','Cloudiness']]\n",
    "x_values = SouLat_Cld_plt_df['Lat'].astype('float')\n",
    "y_values = SouLat_Cld_plt_df ['Cloudiness'].astype('float')\n",
    "# Run linear regression\n",
    "(slope, intercept, rvalue, pvalue, stderr) = linregress(x_values, y_values)\n",
    "regress_values = x_values * slope + intercept\n",
    "line_eq = \"y = \" + str(round(slope,2)) + \"x + \" + str(round(intercept,2))\n",
    "\n",
    "# Plot scatter plot\n",
    "plt.scatter(x_values,y_values)\n",
    "\n",
    "# Plot regression line\n",
    "plt.plot(x_values,regress_values,\"r-\")\n",
    "plt.annotate(line_eq,(-55,60),fontsize=15,color=\"red\")\n",
    "\n",
    "# Label plot\n",
    "plt.xlabel('Latitude (deg)')\n",
    "plt.ylabel('Cloudiness(%)')\n",
    "\n",
    "# Plot Title\n",
    "plt.title('\\nScatter plot of City Latitude versus Cloudiness (12/15/20)\\n(Southern Hemisphere)')\n",
    "\n",
    "# Print r square value\n",
    "print(f\"R-Squared: {rvalue**2}\")\n",
    "\n",
    "# Show plot\n",
    "plt.show()\n",
    "\n",
    "# Output png\n",
    "plt.savefig(\"./output_data/LatitudevsCloudiness_South.png\")"
   ]
  },
  {
   "cell_type": "markdown",
   "metadata": {},
   "source": [
    "####  Northern Hemisphere - Wind Speed (mph) vs. Latitude Linear Regression"
   ]
  },
  {
   "cell_type": "markdown",
   "metadata": {},
   "source": [
    "Northern Hemisphere (Latitude vs Wind Speed): R-Squared value shows weak correlation between both variables, so not much relationship between latitude and wind speed. Wind speed appears to be about same in Northern hemisphere."
   ]
  },
  {
   "cell_type": "code",
   "execution_count": 35,
   "metadata": {},
   "outputs": [
    {
     "name": "stdout",
     "output_type": "stream",
     "text": [
      "R-Squared: 0.007387465483985591\n"
     ]
    },
    {
     "data": {
      "image/png": "[encoded data removed]",
      "text/plain": [
       "<Figure size 432x288 with 1 Axes>"
      ]
     },
     "metadata": {
      "needs_background": "light"
     },
     "output_type": "display_data"
    },
    {
     "data": {
      "text/plain": [
       "<Figure size 432x288 with 0 Axes>"
      ]
     },
     "metadata": {},
     "output_type": "display_data"
    }
   ],
   "source": [
    "## Convert to floats and store Latitude and Wind Speed as x and y values respectively\n",
    "NorLat_WS_plt_df = clean_city_data.loc[clean_city_data['Lat'] >= 0,['Lat','Wind Speed']]\n",
    "x_values = NorLat_WS_plt_df['Lat'].astype('float')\n",
    "y_values = NorLat_WS_plt_df ['Wind Speed'].astype('float')\n",
    "# Run linear regression\n",
    "(slope, intercept, rvalue, pvalue, stderr) = linregress(x_values, y_values)\n",
    "regress_values = x_values * slope + intercept\n",
    "line_eq = \"y = \" + str(round(slope,2)) + \"x + \" + str(round(intercept,2))\n",
    "\n",
    "# Plot scatter plot\n",
    "plt.scatter(x_values,y_values)\n",
    "\n",
    "# Plot regression line\n",
    "plt.plot(x_values,regress_values,\"r-\")\n",
    "plt.annotate(line_eq,(5,40),fontsize=15,color=\"red\")\n",
    "\n",
    "# Label plot\n",
    "plt.xlabel('Latitude (deg)')\n",
    "plt.ylabel('Wind Speed (mph)')\n",
    "\n",
    "# Plot Title\n",
    "plt.title('\\nScatter plot of City Latitude versus Wind Speed (12/15/20)\\n(Northern Hemisphere)')\n",
    "\n",
    "# Print r square value\n",
    "print(f\"R-Squared: {rvalue**2}\")\n",
    "\n",
    "# Show plot\n",
    "plt.show()\n",
    "\n",
    "# Output png\n",
    "plt.savefig(\"./output_data/LatitudevsWind_Speed_North.png\")"
   ]
  },
  {
   "cell_type": "markdown",
   "metadata": {},
   "source": [
    "####  Southern Hemisphere - Wind Speed (mph) vs. Latitude Linear Regression"
   ]
  },
  {
   "cell_type": "markdown",
   "metadata": {},
   "source": [
    "Southern Hemisphere (Latitude vs Wind Speed): Weak correlation between both parameters. Higher wind speeeds in the Southern hemisphere as compared to the Northern hemisphere, but no strong relationship between latitude and wind speed."
   ]
  },
  {
   "cell_type": "code",
   "execution_count": 36,
   "metadata": {},
   "outputs": [
    {
     "name": "stdout",
     "output_type": "stream",
     "text": [
      "R-Squared: 0.040174254621352004\n"
     ]
    },
    {
     "data": {
      "image/png": "[encoded data removed]",
      "text/plain": [
       "<Figure size 432x288 with 1 Axes>"
      ]
     },
     "metadata": {
      "needs_background": "light"
     },
     "output_type": "display_data"
    },
    {
     "data": {
      "text/plain": [
       "<Figure size 432x288 with 0 Axes>"
      ]
     },
     "metadata": {},
     "output_type": "display_data"
    }
   ],
   "source": [
    "## Convert to floats and store Latitude and Wind Speed as x and y values respectively\n",
    "SouLat_WS_plt_df = clean_city_data.loc[clean_city_data['Lat'] < 0,['Lat','Wind Speed']]\n",
    "x_values = SouLat_WS_plt_df['Lat'].astype('float')\n",
    "y_values = SouLat_WS_plt_df ['Wind Speed'].astype('float')\n",
    "# Run linear regression\n",
    "(slope, intercept, rvalue, pvalue, stderr) = linregress(x_values, y_values)\n",
    "regress_values = x_values * slope + intercept\n",
    "line_eq = \"y = \" + str(round(slope,2)) + \"x + \" + str(round(intercept,2))\n",
    "\n",
    "# Plot scatter plot\n",
    "plt.scatter(x_values,y_values)\n",
    "\n",
    "# Plot regression line\n",
    "plt.plot(x_values,regress_values,\"r-\")\n",
    "plt.annotate(line_eq,(-55,25),fontsize=15,color=\"red\")\n",
    "\n",
    "# Label plot\n",
    "plt.xlabel('Latitude (deg)')\n",
    "plt.ylabel('Wind Speed (mph)')\n",
    "\n",
    "# Plot Title\n",
    "plt.title('\\nScatter plot of City Latitude versus Wind Speed (12/15/20)\\n(Southern Hemisphere)')\n",
    "\n",
    "# Print r square value\n",
    "print(f\"R-Squared: {rvalue**2}\")\n",
    "\n",
    "# Show plot\n",
    "plt.show()\n",
    "\n",
    "# Output png\n",
    "plt.savefig(\"./output_data/LatitudevsWind_Speed_South.png\")"
   ]
  },
  {
   "cell_type": "code",
   "execution_count": null,
   "metadata": {},
   "outputs": [],
   "source": []
  }
 ],
 "metadata": {
  "anaconda-cloud": {},
  "kernel_info": {
   "name": "python3"
  },
  "kernelspec": {
   "display_name": "Python 3",
   "language": "python",
   "name": "python3"
  },
  "language_info": {
   "codemirror_mode": {
    "name": "ipython",
    "version": 3
   },
   "file_extension": ".py",
   "mimetype": "text/x-python",
   "name": "python",
   "nbconvert_exporter": "python",
   "pygments_lexer": "ipython3",
   "version": "3.7.6"
  },
  "latex_envs": {
   "LaTeX_envs_menu_present": true,
   "autoclose": false,
   "autocomplete": true,
   "bibliofile": "biblio.bib",
   "cite_by": "apalike",
   "current_citInitial": 1,
   "eqLabelWithNumbers": true,
   "eqNumInitial": 1,
   "hotkeys": {
    "equation": "Ctrl-E",
    "itemize": "Ctrl-I"
   },
   "labels_anchors": false,
   "latex_user_defs": false,
   "report_style_numbering": false,
   "user_envs_cfg": false
  },
  "nteract": {
   "version": "0.12.3"
  }
 },
 "nbformat": 4,
 "nbformat_minor": 2
}
